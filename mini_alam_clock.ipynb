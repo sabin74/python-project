{
 "cells": [
  {
   "cell_type": "code",
   "execution_count": 1,
   "id": "2bf7fa39-de3d-4ba8-b692-2c9a2495d549",
   "metadata": {},
   "outputs": [
    {
     "name": "stdout",
     "output_type": "stream",
     "text": [
      "Defaulting to user installation because normal site-packages is not writeable\n",
      "Requirement already satisfied: playsound in /home/sabin/.local/lib/python3.10/site-packages (1.3.0)\n",
      "Note: you may need to restart the kernel to use updated packages.\n"
     ]
    }
   ],
   "source": [
    "pip install playsound"
   ]
  },
  {
   "cell_type": "code",
   "execution_count": 2,
   "id": "fb494e08-6677-4c8a-9b82-a8bafa2db0cb",
   "metadata": {},
   "outputs": [],
   "source": [
    "# installing alarm.mp3 on the same file\n",
    "# alarm.mp3 : https://www.fesliyanstudios.com/royalty-free-sound-effects-download/alarm-203"
   ]
  },
  {
   "cell_type": "code",
   "execution_count": 3,
   "id": "b09d87ea-e40f-4d19-aac0-cf547b130bc9",
   "metadata": {},
   "outputs": [],
   "source": [
    "from playsound import  playsound\n",
    "import time "
   ]
  },
  {
   "cell_type": "code",
   "execution_count": 4,
   "id": "e0cb6f1c-793d-40f3-8d63-f7a99f062687",
   "metadata": {},
   "outputs": [],
   "source": [
    "CLEAR = \"\\033[2]\"\n",
    "CLEAR_AND_RETURN = \"\\033[H\""
   ]
  },
  {
   "cell_type": "code",
   "execution_count": null,
   "id": "0c9bd8aa-ddc8-48cd-90d5-2fcd3db4768a",
   "metadata": {},
   "outputs": [],
   "source": []
  },
  {
   "cell_type": "code",
   "execution_count": 5,
   "id": "d36fcec5-a087-45b0-ae3e-ea66ce9def90",
   "metadata": {},
   "outputs": [],
   "source": [
    "def alarm(seconds):\n",
    "    time_elapsed = 0\n",
    "    \n",
    "    print(CLEAR)\n",
    "    while time_elapsed < seconds: \n",
    "        time.sleep(1)\n",
    "        time_elapsed += 1\n",
    "        \n",
    "        time_left = seconds - time_elapsed\n",
    "        minutes_left = time_left // 60\n",
    "        seconds_left = time_left % 60\n",
    "\n",
    "        print(f\"{CLEAR_AND_RETURN}Alarm will sound in: {minutes_left:02d} : {seconds_left:02d}\")\n",
    "        \n",
    "    playsound(\"alarm.mp3\")\n",
    "        "
   ]
  },
  {
   "cell_type": "code",
   "execution_count": 6,
   "id": "c33da25c-94d3-43ac-9a8b-7f944ab5d526",
   "metadata": {},
   "outputs": [
    {
     "name": "stdin",
     "output_type": "stream",
     "text": [
      "How many minutes to wait:  0\n",
      "How many seconds to wait:  9\n"
     ]
    },
    {
     "name": "stdout",
     "output_type": "stream",
     "text": [
      "\u001b[2]\n",
      "\u001b[HAlarm will sound in: 00 : 08\n",
      "\u001b[HAlarm will sound in: 00 : 07\n",
      "\u001b[HAlarm will sound in: 00 : 06\n",
      "\u001b[HAlarm will sound in: 00 : 05\n",
      "\u001b[HAlarm will sound in: 00 : 04\n",
      "\u001b[HAlarm will sound in: 00 : 03\n",
      "\u001b[HAlarm will sound in: 00 : 02\n",
      "\u001b[HAlarm will sound in: 00 : 01\n",
      "\u001b[HAlarm will sound in: 00 : 00\n"
     ]
    }
   ],
   "source": [
    "minutes = int(input(\"How many minutes to wait: \"))\n",
    "seconds = int(input(\"How many seconds to wait: \"))\n",
    "total_seconds = minutes * 60 + seconds\n",
    "alarm(total_seconds)"
   ]
  },
  {
   "cell_type": "code",
   "execution_count": null,
   "id": "2c71c401-8273-4f41-b8ef-1a33bf1a1e66",
   "metadata": {},
   "outputs": [],
   "source": []
  }
 ],
 "metadata": {
  "kernelspec": {
   "display_name": "Python 3 (ipykernel)",
   "language": "python",
   "name": "python3"
  },
  "language_info": {
   "codemirror_mode": {
    "name": "ipython",
    "version": 3
   },
   "file_extension": ".py",
   "mimetype": "text/x-python",
   "name": "python",
   "nbconvert_exporter": "python",
   "pygments_lexer": "ipython3",
   "version": "3.10.12"
  }
 },
 "nbformat": 4,
 "nbformat_minor": 5
}
