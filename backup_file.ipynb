{
 "cells": [
  {
   "cell_type": "code",
   "execution_count": null,
   "id": "f65a2603-5836-41e4-bb92-824a20dfe42c",
   "metadata": {},
   "outputs": [
    {
     "name": "stdout",
     "output_type": "stream",
     "text": [
      "Folder copied to: /home/sabin/Downloads/2025-02-02\n"
     ]
    }
   ],
   "source": [
    "import os\n",
    "import shutil\n",
    "import datetime\n",
    "import schedule\n",
    "import time\n",
    "\n",
    "source_dir = \"/home/sabin/Documents\"\n",
    "destination_dir = \"/home/sabin/Downloads\"\n",
    "\n",
    "def copy_folder_to_directory(source, dest):\n",
    "    today = datetime.date.today()\n",
    "    dest_dir = os.path.join(dest, str(today))\n",
    "    \n",
    "    try:\n",
    "        shutil.copytree(source, dest_dir)\n",
    "        print(f\"Folder copied to: {dest_dir}\")\n",
    "    except FileExistsError:\n",
    "        print(f\"Folder already exists in: {dest}\")\n",
    "\n",
    "                       #current time                       \n",
    "schedule.every().day.at(\"16:42\").do(lambda: copy_folder_to_directory(source_dir, destination_dir))\n",
    "\n",
    "while True:\n",
    "    schedule.run_pending()\n",
    "    time.sleep(60)"
   ]
  },
  {
   "cell_type": "code",
   "execution_count": null,
   "id": "4d138a78-faa6-410e-a1c6-3a73c28dbfc4",
   "metadata": {},
   "outputs": [],
   "source": []
  }
 ],
 "metadata": {
  "kernelspec": {
   "display_name": "Python 3 (ipykernel)",
   "language": "python",
   "name": "python3"
  },
  "language_info": {
   "codemirror_mode": {
    "name": "ipython",
    "version": 3
   },
   "file_extension": ".py",
   "mimetype": "text/x-python",
   "name": "python",
   "nbconvert_exporter": "python",
   "pygments_lexer": "ipython3",
   "version": "3.10.12"
  }
 },
 "nbformat": 4,
 "nbformat_minor": 5
}
