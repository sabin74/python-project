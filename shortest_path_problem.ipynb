{
 "cells": [
  {
   "cell_type": "code",
   "execution_count": 1,
   "id": "8bdab97f-4a7e-4e39-99b7-c0f173f6726f",
   "metadata": {},
   "outputs": [],
   "source": [
    "import curses\n",
    "from curses import wrapper\n",
    "import queue \n",
    "import time"
   ]
  },
  {
   "cell_type": "code",
   "execution_count": 2,
   "id": "1f119edb-9dc5-4e45-ad92-a78768dd1f74",
   "metadata": {},
   "outputs": [],
   "source": [
    "maze = [\n",
    "    [\"#\", \"O\", \"#\", \"#\", \"#\", \"#\", \"#\", \"#\", \"#\"],\n",
    "    [\"#\", \" \", \" \", \" \", \" \", \" \", \" \", \" \", \"#\"],\n",
    "    [\"#\", \" \", \"#\", \"#\", \" \", \"#\", \"#\", \" \", \"#\"],\n",
    "    [\"#\", \" \", \"#\", \" \", \" \", \" \", \"#\", \" \", \"#\"],\n",
    "    [\"#\", \" \", \"#\", \" \", \"#\", \" \", \"#\", \" \", \"#\"],\n",
    "    [\"#\", \" \", \"#\", \" \", \"#\", \" \", \"#\", \" \", \"#\"],\n",
    "    [\"#\", \" \", \"#\", \" \", \"#\", \" \", \"#\", \"#\", \"#\"],\n",
    "    [\"#\", \" \", \" \", \" \", \" \", \" \", \" \", \" \", \"#\"],\n",
    "    [\"#\", \"#\", \"#\", \"#\", \"#\", \"#\", \"#\", \"X\", \"#\"]\n",
    "]"
   ]
  },
  {
   "cell_type": "code",
   "execution_count": 3,
   "id": "6d25f3ed-32fd-4e0e-9e0c-a83dfbe1b3bd",
   "metadata": {},
   "outputs": [],
   "source": [
    "def print_maze(maze, stdscr, path = []):\n",
    "    BLUE = curses.color_pair(1) \n",
    "    RED = curses.color_pait(2)\n",
    "\n",
    "    for i, row in enumerate(maze):\n",
    "        for j, value in enumerate(row):\n",
    "            if (i, j) in path:\n",
    "                stdscr.addstr(i, j * 2, \"X\", RED)\n",
    "            else:\n",
    "                stdscr:addstr(i, j * 2, value, BLUE)"
   ]
  },
  {
   "cell_type": "code",
   "execution_count": 4,
   "id": "beedd90d-499a-46ba-b7d4-aebbcdddef16",
   "metadata": {},
   "outputs": [],
   "source": [
    "def find_start(maze, start):\n",
    "    for i, row in enumerate(maze):\n",
    "        for j, value in enumerate(row): \n",
    "            if value == start:\n",
    "                return i, j\n",
    "\n",
    "    return None"
   ]
  },
  {
   "cell_type": "code",
   "execution_count": 5,
   "id": "3665c724-1464-4522-85e4-ae33f6fc15f9",
   "metadata": {},
   "outputs": [],
   "source": [
    "def find_path(maze, stdscr):\n",
    "    start = \"O\"\n",
    "    end = \"X\"\n",
    "    start_pos = find_start(maze, start) \n",
    "\n",
    "    q = queue.Queue()\n",
    "    q.put((start_pos, [start_pos]))\n",
    "\n",
    "    visited = set()\n",
    "\n",
    "    while not q.empty():\n",
    "        current_pos, path = q.get()\n",
    "        row, col = current_pos\n",
    "\n",
    "        stdscr.clear()\n",
    "        print_maze(maze, stdscr, path)\n",
    "        time.sleep(0.2)\n",
    "        stdscr.refresh()\n",
    "\n",
    "        if maze[row][col] == end:\n",
    "            return paht\n",
    "\n",
    "        neighbors = find_neighbors(maze, row, col)\n",
    "        for neighbor in neighbors:\n",
    "            if neighbor in visited:\n",
    "                continue\n",
    "\n",
    "            r, c = neighbor\n",
    "            if maze[r][c] == \"#\": \n",
    "                continue\n",
    "\n",
    "            new_path = path + [neighbor]\n",
    "            q.put((neighbor, new_path))\n",
    "            visited.add(neighbor)"
   ]
  },
  {
   "cell_type": "code",
   "execution_count": 6,
   "id": "c3e38150-1929-4d78-acf3-2227f7dc1bfe",
   "metadata": {},
   "outputs": [],
   "source": [
    "def find_neighbors(maze, row, col):\n",
    "    neighbors = []\n",
    "\n",
    "    if row > 0: #UP \n",
    "        neighbors.append((row - 1, col))\n",
    "    if row + 1 < len(maze): #DOWN \n",
    "        neighbors.append((row + 1, col)) \n",
    "    if col > 0: #LEFT \n",
    "        neighbors.append((row, col - 1))\n",
    "    if col + 1 < len(maze[0]): #RIGHT \n",
    "        neighbors.append((row, col + 1))\n",
    "\n",
    "    return neighbors"
   ]
  },
  {
   "cell_type": "code",
   "execution_count": 7,
   "id": "f6afb347-3eae-49c9-b867-ef46b8a44f15",
   "metadata": {},
   "outputs": [],
   "source": [
    "def main(stdscr):\n",
    "    curses.init_pair(1, curses.COLOR_BLUE, curses.COLOR_BLACK)\n",
    "    curses.init_pair(2, curses.COLOR_RED, curses.COLOR_BLACK)\n",
    "\n",
    "    find_path(maze, stdscr)\n",
    "    stdscr.getch()"
   ]
  },
  {
   "cell_type": "code",
   "execution_count": 8,
   "id": "c9453e50-3d4a-49fd-adbc-0d0e53526c59",
   "metadata": {},
   "outputs": [],
   "source": [
    "wrapper(main)"
   ]
  }
 ],
 "metadata": {
  "kernelspec": {
   "display_name": "Python 3 (ipykernel)",
   "language": "python",
   "name": "python3"
  },
  "language_info": {
   "codemirror_mode": {
    "name": "ipython",
    "version": 3
   },
   "file_extension": ".py",
   "mimetype": "text/x-python",
   "name": "python",
   "nbconvert_exporter": "python",
   "pygments_lexer": "ipython3",
   "version": "3.10.12"
  }
 },
 "nbformat": 4,
 "nbformat_minor": 5
}
