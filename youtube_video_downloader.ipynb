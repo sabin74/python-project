{
 "cells": [
  {
   "cell_type": "code",
   "execution_count": 1,
   "id": "5c4a767d-012d-49fb-869a-d15dc671fd98",
   "metadata": {},
   "outputs": [],
   "source": [
    "import yt_dlp\n",
    "import tkinter as tk\n",
    "from tkinter import filedialog\n",
    "import os"
   ]
  },
  {
   "cell_type": "code",
   "execution_count": 2,
   "id": "6004dc2f-11d6-448d-af99-e87c881f206b",
   "metadata": {},
   "outputs": [],
   "source": [
    "def download_video(url, save_path):\n",
    "    try:\n",
    "        ydl_opts = {\n",
    "            'outtmpl': os.path.join(save_path, '%(title)s.%(ext)s'),\n",
    "            'format': 'bestvideo+bestaudio/best',\n",
    "        }\n",
    "        with yt_dlp.YoutubeDL(ydl_opts) as ydl:\n",
    "            print(\"Downloading...\")\n",
    "            ydl.download([url])\n",
    "            print(\"Video downloaded successfully!\")\n",
    "    except Exception as e:\n",
    "        print(f\"Error: {e}\")"
   ]
  },
  {
   "cell_type": "code",
   "execution_count": 3,
   "id": "c049c096-74d7-4016-a616-5c4bcd26de83",
   "metadata": {},
   "outputs": [],
   "source": [
    "def open_file_dialog():\n",
    "    folder = filedialog.askdirectory()\n",
    "    if folder and os.path.isdir(folder):\n",
    "        print(f\"Selected folder: {folder}\")\n",
    "        return folder\n",
    "    else:\n",
    "        print(\"No folder selected or invalid path.\")\n",
    "        return None"
   ]
  },
  {
   "cell_type": "code",
   "execution_count": 4,
   "id": "6571f461-fbe2-414f-b5d9-a6dddf71857d",
   "metadata": {},
   "outputs": [
    {
     "name": "stdin",
     "output_type": "stream",
     "text": [
      "Please enter a YouTube url:  https://www.youtube.com/watch?v=qNxrPri1V0I\n"
     ]
    },
    {
     "name": "stdout",
     "output_type": "stream",
     "text": [
      "Selected folder: /home/sabin/Downloads\n",
      "Started download...\n",
      "Downloading...\n",
      "[youtube] Extracting URL: https://www.youtube.com/watch?v=qNxrPri1V0I\n",
      "[youtube] qNxrPri1V0I: Downloading webpage\n",
      "[youtube] qNxrPri1V0I: Downloading tv client config\n",
      "[youtube] qNxrPri1V0I: Downloading player f3d47b5a\n",
      "[youtube] qNxrPri1V0I: Downloading tv player API JSON\n",
      "[youtube] qNxrPri1V0I: Downloading ios player API JSON\n",
      "[youtube] qNxrPri1V0I: Downloading m3u8 information\n",
      "[info] qNxrPri1V0I: Downloading 1 format(s): 401+251\n",
      "[download] Destination: /home/sabin/Downloads/Learn Machine Learning Like a GENIUS and Not Waste Time.f401.mp4\n",
      "[download] 100% of  108.26MiB in 00:00:37 at 2.87MiB/s     \n",
      "[download] Destination: /home/sabin/Downloads/Learn Machine Learning Like a GENIUS and Not Waste Time.f251.webm\n",
      "[download] 100% of   12.78MiB in 00:00:05 at 2.17MiB/s   \n",
      "[Merger] Merging formats into \"/home/sabin/Downloads/Learn Machine Learning Like a GENIUS and Not Waste Time.webm\"\n",
      "Deleting original file /home/sabin/Downloads/Learn Machine Learning Like a GENIUS and Not Waste Time.f251.webm (pass -k to keep)\n",
      "Deleting original file /home/sabin/Downloads/Learn Machine Learning Like a GENIUS and Not Waste Time.f401.mp4 (pass -k to keep)\n",
      "Video downloaded successfully!\n"
     ]
    }
   ],
   "source": [
    "if __name__ == \"__main__\":\n",
    "    root = tk.Tk()\n",
    "    root.withdraw()\n",
    "\n",
    "    video_url = input(\"Please enter a YouTube url: \")\n",
    "    save_dir = open_file_dialog()\n",
    "\n",
    "    if save_dir:\n",
    "        print(\"Started download...\")\n",
    "        download_video(video_url, save_dir)\n",
    "    else:\n",
    "        print(\"Invalid save location.\")"
   ]
  },
  {
   "cell_type": "code",
   "execution_count": null,
   "id": "f9b8ee51-6536-4e09-a400-4352aeef39a4",
   "metadata": {},
   "outputs": [],
   "source": []
  }
 ],
 "metadata": {
  "kernelspec": {
   "display_name": "Python 3 (ipykernel)",
   "language": "python",
   "name": "python3"
  },
  "language_info": {
   "codemirror_mode": {
    "name": "ipython",
    "version": 3
   },
   "file_extension": ".py",
   "mimetype": "text/x-python",
   "name": "python",
   "nbconvert_exporter": "python",
   "pygments_lexer": "ipython3",
   "version": "3.10.12"
  }
 },
 "nbformat": 4,
 "nbformat_minor": 5
}
