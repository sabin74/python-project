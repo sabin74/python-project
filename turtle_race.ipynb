{
 "cells": [
  {
   "cell_type": "code",
   "execution_count": 1,
   "id": "bfe9790a-66f5-430e-a9de-7bda0c306b7a",
   "metadata": {},
   "outputs": [],
   "source": [
    "import math\n",
    "import random\n",
    "import turtle\n",
    "#import time"
   ]
  },
  {
   "cell_type": "code",
   "execution_count": 2,
   "id": "881ad421-2776-4ec6-af9c-ef86d5c1c8c3",
   "metadata": {},
   "outputs": [],
   "source": [
    "win_length = 500\n",
    "win_height = 500"
   ]
  },
  {
   "cell_type": "code",
   "execution_count": null,
   "id": "c80928ba-6837-4889-a81d-25c5a30bfc0e",
   "metadata": {},
   "outputs": [
    {
     "name": "stdin",
     "output_type": "stream",
     "text": [
      "Would you like to play \n"
     ]
    },
    {
     "name": "stdout",
     "output_type": "stream",
     "text": [
      "The winner is: \n",
      "blue\n",
      "-----------------------------------\n"
     ]
    },
    {
     "name": "stdin",
     "output_type": "stream",
     "text": [
      "Would you like to play again \n"
     ]
    },
    {
     "name": "stdout",
     "output_type": "stream",
     "text": [
      "The winner is: \n",
      "pink\n",
      "-----------------------------------\n"
     ]
    },
    {
     "name": "stdin",
     "output_type": "stream",
     "text": [
      "Would you like to play again \n"
     ]
    },
    {
     "name": "stdout",
     "output_type": "stream",
     "text": [
      "The winner is: \n",
      "orange\n",
      "-----------------------------------\n"
     ]
    },
    {
     "name": "stdin",
     "output_type": "stream",
     "text": [
      "Would you like to play again \n"
     ]
    },
    {
     "name": "stdout",
     "output_type": "stream",
     "text": [
      "The winner is: \n",
      "green\n",
      "-----------------------------------\n"
     ]
    },
    {
     "name": "stdin",
     "output_type": "stream",
     "text": [
      "Would you like to play again \n"
     ]
    },
    {
     "name": "stdout",
     "output_type": "stream",
     "text": [
      "The winner is: \n",
      "green\n",
      "-----------------------------------\n"
     ]
    },
    {
     "name": "stdin",
     "output_type": "stream",
     "text": [
      "Would you like to play again q\n"
     ]
    },
    {
     "name": "stdout",
     "output_type": "stream",
     "text": [
      "The winner is: \n",
      "pink\n",
      "-----------------------------------\n"
     ]
    }
   ],
   "source": [
    "turtles = 8\n",
    "\n",
    "turtle.screensize(win_length, win_height)\n",
    "\n",
    "\n",
    "class racer(object):\n",
    "    def __init__(self, color, pos):\n",
    "        self.pos = pos\n",
    "        self.color = color\n",
    "        self.turt = turtle.Turtle()\n",
    "        self.turt.shape('turtle')\n",
    "        self.turt.color(color)\n",
    "        self.turt.penup()\n",
    "        self.turt.setpos(pos)\n",
    "        self.turt.setheading(90)\n",
    "\n",
    "    def move(self):\n",
    "        r = random.randrange(1, 20)\n",
    "        self.pos = (self.pos[0], self.pos[1] + r)\n",
    "        self.turt.pendown()\n",
    "        self.turt.forward(r)\n",
    "\n",
    "    def reset(self):\n",
    "        self.turt.penup()\n",
    "        self.turt.setpos(self.pos)\n",
    "\n",
    "\n",
    "def setupFile(name, colors):\n",
    "    file = open(name, 'w')\n",
    "    for color in colors:\n",
    "        file.write(color + ' 0 \\n')\n",
    "    file.close()\n",
    "\n",
    "\n",
    "def startGame():\n",
    "    tList = []\n",
    "    turtle.clearscreen()\n",
    "    turtle.hideturtle()\n",
    "    colors = [\"red\", \"green\", \"blue\", 'yellow', 'pink', 'orange', 'purple', 'black', 'grey']\n",
    "    start = -(win_length/2) + 20\n",
    "    for t in range(turtles):\n",
    "        newPosX = start + t*(win_length)//turtles\n",
    "        tList.append(racer(colors[t],(newPosX, -230)))\n",
    "        tList[t].turt.showturtle()\n",
    "\n",
    "    run = True\n",
    "    while run:\n",
    "        for t in tList:\n",
    "            t.move()\n",
    "\n",
    "        maxColor = []\n",
    "        maxDis = 0\n",
    "        for t in tList:\n",
    "            if t.pos[1] > 230 and t.pos[1] > maxDis:\n",
    "                maxDis = t.pos[1]\n",
    "                maxColor = []\n",
    "                maxColor.append(t.color)\n",
    "            elif t.pos[1] > 230 and t.pos[1] == maxDis:\n",
    "                maxDis = t.pos[1]\n",
    "                maxColor.append(t.color)\n",
    "\n",
    "        if len(maxColor) > 0:\n",
    "            run = False\n",
    "            print('The winner is: ')\n",
    "            for win in maxColor:\n",
    "                print(win)\n",
    "\n",
    "    oldScore = []\n",
    "    file = open('scores.txt', 'r')\n",
    "    for line in file:\n",
    "        l = line.split()\n",
    "        color = l[0]\n",
    "        score = l[1]\n",
    "        oldScore.append([color, score])\n",
    "\n",
    "    file.close()\n",
    "\n",
    "    file = open('scores.txt', 'w')\n",
    "\n",
    "    for entry in oldScore:\n",
    "        for winner in maxColor:\n",
    "            if entry[0] == winner:\n",
    "                entry[1] = int(entry[1]) + 1\n",
    "\n",
    "        file.write(str(entry[0]) + ' ' + str(entry[1]) + '\\n')\n",
    "\n",
    "\n",
    "    file.close()\n",
    "\n",
    "\n",
    "start = input('Would you like to play')\n",
    "startGame()\n",
    "\n",
    "while True:\n",
    "    print('-----------------------------------')\n",
    "    start = input('Would you like to play again')\n",
    "    startGame()"
   ]
  },
  {
   "cell_type": "code",
   "execution_count": null,
   "id": "66b43450-15b8-4c60-bafe-73cb9e2d6ff6",
   "metadata": {},
   "outputs": [],
   "source": []
  },
  {
   "cell_type": "code",
   "execution_count": null,
   "id": "bb9933a4-70a3-40bf-8b40-b51df93e4478",
   "metadata": {},
   "outputs": [],
   "source": []
  }
 ],
 "metadata": {
  "kernelspec": {
   "display_name": "Python 3 (ipykernel)",
   "language": "python",
   "name": "python3"
  },
  "language_info": {
   "codemirror_mode": {
    "name": "ipython",
    "version": 3
   },
   "file_extension": ".py",
   "mimetype": "text/x-python",
   "name": "python",
   "nbconvert_exporter": "python",
   "pygments_lexer": "ipython3",
   "version": "3.10.12"
  }
 },
 "nbformat": 4,
 "nbformat_minor": 5
}
