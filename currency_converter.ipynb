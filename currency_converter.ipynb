{
 "cells": [
  {
   "cell_type": "code",
   "execution_count": 1,
   "id": "81af3335-0862-4059-8fa1-e006e1af448f",
   "metadata": {},
   "outputs": [],
   "source": [
    "from requests import get\n",
    "from pprint import PrettyPrinter"
   ]
  },
  {
   "cell_type": "code",
   "execution_count": 2,
   "id": "206ec20d-860e-44bd-a753-72da88d7f758",
   "metadata": {},
   "outputs": [],
   "source": [
    "BASE_URL = \"https://free.currconv.com/\"\n",
    "API_KEY = \"562ddaf40c95f5d58108\" #get api from this link: https://free.currencyconverterapi.com/\n",
    "\n",
    "printer = PrettyPrinter()"
   ]
  },
  {
   "cell_type": "code",
   "execution_count": 3,
   "id": "97ce1497-1864-4ee2-ad76-a97c8dc41b45",
   "metadata": {},
   "outputs": [],
   "source": [
    "def get_currencies():\n",
    "    endpoint = f\"api/v7/currencies?apiKey={API_KEY}\"\n",
    "    url = BASE_URL + endpoint\n",
    "    data = get(url).json()['results']\n",
    "\n",
    "    data = list(data.items())\n",
    "    data.sort()\n",
    "\n",
    "    return data"
   ]
  },
  {
   "cell_type": "code",
   "execution_count": 4,
   "id": "c1fb4c4a-9ef1-46ba-b314-0562355118eb",
   "metadata": {},
   "outputs": [],
   "source": [
    "def print_currencies(currencies):\n",
    "    for name, currency in currencies:\n",
    "        name = currency['currencyName']\n",
    "        _id = currency['id']\n",
    "        symbol = currency.get(\"currencySymbol\", \"\")\n",
    "        print(f\"{_id} - {name} - {symbol}\")"
   ]
  },
  {
   "cell_type": "code",
   "execution_count": 5,
   "id": "3fd43f08-050e-4428-b183-1a5bb0ed1d15",
   "metadata": {},
   "outputs": [],
   "source": [
    "def exchange_rate(currency1, currency2):\n",
    "    endpoint = f\"api/v7/convert?q={currency1}_{currency2}&compact=ultra&apiKey={API_KEY}\"\n",
    "    url = BASE_URL + endpoint\n",
    "    data = get(url).json()\n",
    "\n",
    "    if len(data) == 0:\n",
    "        print('Invalid currencies.')\n",
    "        return\n",
    "\n",
    "    rate = list(data.values())[0]\n",
    "    print(f\"{currency1} -> {currency2} = {rate}\")\n",
    "\n",
    "    return rate\n",
    "\n"
   ]
  },
  {
   "cell_type": "code",
   "execution_count": 6,
   "id": "2534d915-6616-4456-818c-f51fe7871358",
   "metadata": {},
   "outputs": [],
   "source": [
    "def convert(currency1, currency2, amount):\n",
    "    rate = exchange_rate(currency1, currency2)\n",
    "    if rate is None:\n",
    "        return\n",
    "\n",
    "    try:\n",
    "        amount = float(amount)\n",
    "    except:\n",
    "        print(\"Invalid amount.\")\n",
    "        return\n",
    "\n",
    "    converted_amount = rate * amount\n",
    "    print(f\"{amount} {currency1} is equal to {converted_amount} {currency2}\")\n",
    "    return converted_amount"
   ]
  },
  {
   "cell_type": "code",
   "execution_count": 7,
   "id": "bb8db0e6-d75d-4e99-bf83-5bbf83fb6b35",
   "metadata": {},
   "outputs": [],
   "source": [
    "def main():\n",
    "    currencies = get_currencies()\n",
    "\n",
    "    print(\"Welcome to the currency converter!\")\n",
    "    print(\"List - lists the different currencies\")\n",
    "    print(\"Convert - convert from one currency to another\")\n",
    "    print(\"Rate - get the exchange rate of two currencies\")\n",
    "    print()\n",
    "\n",
    "    while True:\n",
    "        command = input(\"Enter a command (q to quit): \").lower()\n",
    "\n",
    "        if command == \"q\":\n",
    "            break\n",
    "        elif command == \"list\":\n",
    "            print_currencies(currencies)\n",
    "        elif command == \"convert\":\n",
    "            currency1 = input(\"Enter a base currency: \").upper()\n",
    "            amount = input(f\"Enter an amount in {currency1}: \")\n",
    "            currency2 = input(\"Enter a currency to convert to: \").upper()\n",
    "            convert(currency1, currency2, amount)\n",
    "        elif command == \"rate\":\n",
    "            currency1 = input(\"Enter a base currency: \").upper()\n",
    "            currency2 = input(\"Enter a currency to convert to: \").upper()\n",
    "            exchange_rate(currency1, currency2)\n",
    "        else:\n",
    "            print(\"Unrecognized command!\")"
   ]
  },
  {
   "cell_type": "code",
   "execution_count": 8,
   "id": "1d2f6da3-c8f5-4ff8-b49e-14510137be74",
   "metadata": {},
   "outputs": [],
   "source": [
    "main()"
   ]
  }
 ],
 "metadata": {
  "kernelspec": {
   "display_name": "Python 3 (ipykernel)",
   "language": "python",
   "name": "python3"
  },
  "language_info": {
   "codemirror_mode": {
    "name": "ipython",
    "version": 3
   },
   "file_extension": ".py",
   "mimetype": "text/x-python",
   "name": "python",
   "nbconvert_exporter": "python",
   "pygments_lexer": "ipython3",
   "version": "3.10.12"
  }
 },
 "nbformat": 4,
 "nbformat_minor": 5
}
