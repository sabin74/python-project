{
 "cells": [
  {
   "cell_type": "code",
   "execution_count": 2,
   "id": "5da0afd6-9a2d-402d-8776-6476a1b548b4",
   "metadata": {},
   "outputs": [],
   "source": [
    "from requests import get\n",
    "from pprint import PrettyPrinter\n",
    "\n",
    "BASE_URL = \"https://data.nba.net\"\n",
    "ALL_JSON = \"/prod/v1/today.json\"\n",
    "\n",
    "printer = PrettyPrinter()\n",
    "\n",
    "\n",
    "def get_links():\n",
    "    data = get(BASE_URL + ALL_JSON).json()\n",
    "    links = data['links']\n",
    "    return links\n",
    "\n",
    "\n",
    "def get_scoreboard():\n",
    "    scoreboard = get_links()['currentScoreboard']\n",
    "    games = get(BASE_URL + scoreboard).json()['games']\n",
    "\n",
    "    for game in games:\n",
    "        home_team = game['hTeam']\n",
    "        away_team = game['vTeam']\n",
    "        clock = game['clock']\n",
    "        period = game['period']\n",
    "\n",
    "        print(\"------------------------------------------\")\n",
    "        print(f\"{home_team['triCode']} vs {away_team['triCode']}\")\n",
    "        print(f\"{home_team['score']} - {away_team['score']}\")\n",
    "        print(f\"{clock} - {period['current']}\")\n",
    "\n",
    "\n",
    "def get_stats():\n",
    "    stats = get_links()['leagueTeamStatsLeaders']\n",
    "    teams = get(\n",
    "        BASE_URL + stats).json()['league']['standard']['regularSeason']['teams']\n",
    "\n",
    "    teams = list(filter(lambda x: x['name'] != \"Team\", teams))\n",
    "    teams.sort(key=lambda x: int(x['ppg']['rank']))\n",
    "\n",
    "    for i, team in enumerate(teams):\n",
    "        name = team['name']\n",
    "        nickname = team['nickname']\n",
    "        ppg = team['ppg']['avg']\n",
    "        print(f\"{i + 1}. {name} - {nickname} - {ppg}\")\n"
   ]
  },
  {
   "cell_type": "code",
   "execution_count": 3,
   "id": "3da7276f-6664-497c-9296-d6d3f30bf370",
   "metadata": {},
   "outputs": [],
   "source": [
    "get_stats()"
   ]
  },
  {
   "cell_type": "code",
   "execution_count": null,
   "id": "5ec963ae-c7f4-423e-be28-f28f143e075e",
   "metadata": {},
   "outputs": [],
   "source": []
  }
 ],
 "metadata": {
  "kernelspec": {
   "display_name": "Python 3 (ipykernel)",
   "language": "python",
   "name": "python3"
  },
  "language_info": {
   "codemirror_mode": {
    "name": "ipython",
    "version": 3
   },
   "file_extension": ".py",
   "mimetype": "text/x-python",
   "name": "python",
   "nbconvert_exporter": "python",
   "pygments_lexer": "ipython3",
   "version": "3.10.12"
  }
 },
 "nbformat": 4,
 "nbformat_minor": 5
}
