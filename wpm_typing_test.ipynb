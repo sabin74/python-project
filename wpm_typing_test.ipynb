{
 "cells": [
  {
   "cell_type": "code",
   "execution_count": 3,
   "id": "4393a7f8-21e8-439a-8d74-9e05782efb3e",
   "metadata": {},
   "outputs": [],
   "source": [
    "import curses\n",
    "from curses import wrapper\n",
    "import time\n",
    "import random"
   ]
  },
  {
   "cell_type": "code",
   "execution_count": 4,
   "id": "165a3636-f37f-4234-b336-2919d833b4f9",
   "metadata": {},
   "outputs": [],
   "source": [
    "def start_screen(stdscr):\n",
    "\tstdscr.clear()\n",
    "\tstdscr.addstr(\"Welcome to the Speed Typing Test!\")\n",
    "\tstdscr.addstr(\"\\nPress any key to begin!\")\n",
    "\tstdscr.refresh()\n",
    "\tstdscr.getkey()"
   ]
  },
  {
   "cell_type": "code",
   "execution_count": 6,
   "id": "b5152714-88d2-43e4-b0eb-827014f60c9f",
   "metadata": {},
   "outputs": [],
   "source": [
    "def display_text(stdscr, target, current, wpm=0):\n",
    "\tstdscr.addstr(target)\n",
    "\tstdscr.addstr(1, 0, f\"WPM: {wpm}\")\n",
    "    \n",
    "\tfor i, char in enumerate(current):\n",
    "\t\tcorrect_char = target[i]\n",
    "\t\tcolor = curses.color_pair(1)\n",
    "\t\tif char != correct_char:\n",
    "\t\t\tcolor = curses.color_pair(2)\n",
    "\n",
    "\t\tstdscr.addstr(0, i, char, color)"
   ]
  },
  {
   "cell_type": "code",
   "execution_count": 7,
   "id": "5c7994d5-db22-415d-b087-9304d1da0d01",
   "metadata": {},
   "outputs": [],
   "source": [
    "def load_text():\n",
    "\twith open(\"text.txt\", \"r\") as f:\n",
    "\t\tlines = f.readlines()\n",
    "\t\treturn random.choice(lines).strip()"
   ]
  },
  {
   "cell_type": "code",
   "execution_count": 8,
   "id": "e01bbf27-2834-48fd-9017-42e3178b5d9f",
   "metadata": {},
   "outputs": [],
   "source": [
    "def wpm_test(stdscr):\n",
    "\ttarget_text = load_text()\n",
    "\tcurrent_text = []\n",
    "\twpm = 0\n",
    "\tstart_time = time.time()\n",
    "\tstdscr.nodelay(True)\n",
    "\n",
    "\twhile True:\n",
    "\t\ttime_elapsed = max(time.time() - start_time, 1)\n",
    "\t\twpm = round((len(current_text) / (time_elapsed / 60)) / 5)\n",
    "\n",
    "\t\tstdscr.clear()\n",
    "\t\tdisplay_text(stdscr, target_text, current_text, wpm)\n",
    "\t\tstdscr.refresh()\n",
    "\n",
    "\t\tif \"\".join(current_text) == target_text:\n",
    "\t\t\tstdscr.nodelay(False)\n",
    "\t\t\tbreak\n",
    "\n",
    "\t\ttry:\n",
    "\t\t\tkey = stdscr.getkey()\n",
    "\t\texcept:\n",
    "\t\t\tcontinue\n",
    "\n",
    "\t\tif ord(key) == 27:\n",
    "\t\t\tbreak\n",
    "\n",
    "\t\tif key in (\"KEY_BACKSPACE\", '\\b', \"\\x7f\"):\n",
    "\t\t\tif len(current_text) > 0:\n",
    "\t\t\t\tcurrent_text.pop()\n",
    "\t\telif len(current_text) < len(target_text):\n",
    "\t\t\tcurrent_text.append(key)\n",
    "\n"
   ]
  },
  {
   "cell_type": "code",
   "execution_count": 11,
   "id": "04903d72-5dcc-4bd7-8b07-bcc8238f86e8",
   "metadata": {},
   "outputs": [],
   "source": [
    "def main(stdscr):\n",
    "\tcurses.init_pair(1, curses.COLOR_GREEN, curses.COLOR_BLACK)\n",
    "\tcurses.init_pair(2, curses.COLOR_RED, curses.COLOR_BLACK)\n",
    "\tcurses.init_pair(3, curses.COLOR_WHITE, curses.COLOR_BLACK)\n",
    "\n",
    "\tstart_screen(stdscr)\n",
    "\twhile True:\n",
    "\t\twpm_test(stdscr)\n",
    "\t\tstdscr.addstr(2, 0, \"You completed the text! Press any key to continue...\")\n",
    "\t\tkey = stdscr.getkey()\n",
    "\t\t\n",
    "\t\tif ord(key) == 27:\n",
    "\t\t\tbreak\n"
   ]
  },
  {
   "cell_type": "code",
   "execution_count": 14,
   "id": "33e1604e-0c4e-488c-b111-0a635636384a",
   "metadata": {},
   "outputs": [],
   "source": [
    "wrapper(main)"
   ]
  },
  {
   "cell_type": "code",
   "execution_count": null,
   "id": "402123da-4bbb-49bc-92cc-575b3b9feabd",
   "metadata": {},
   "outputs": [],
   "source": []
  }
 ],
 "metadata": {
  "kernelspec": {
   "display_name": "Python 3 (ipykernel)",
   "language": "python",
   "name": "python3"
  },
  "language_info": {
   "codemirror_mode": {
    "name": "ipython",
    "version": 3
   },
   "file_extension": ".py",
   "mimetype": "text/x-python",
   "name": "python",
   "nbconvert_exporter": "python",
   "pygments_lexer": "ipython3",
   "version": "3.10.12"
  }
 },
 "nbformat": 4,
 "nbformat_minor": 5
}
