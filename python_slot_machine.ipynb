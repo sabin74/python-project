{
 "cells": [
  {
   "cell_type": "code",
   "execution_count": 1,
   "id": "ea822541-9db2-42fb-9748-4c2de3f84cd4",
   "metadata": {},
   "outputs": [],
   "source": [
    "import random"
   ]
  },
  {
   "cell_type": "code",
   "execution_count": 2,
   "id": "cdf603e6-787a-4632-897e-0e3c7302c3c9",
   "metadata": {},
   "outputs": [],
   "source": [
    "MAX_LINES = 3\n",
    "MAX_BET = 100\n",
    "MIN_BET = 1"
   ]
  },
  {
   "cell_type": "code",
   "execution_count": 3,
   "id": "4c49933e-4b50-4b20-9c19-86614bd261fb",
   "metadata": {},
   "outputs": [],
   "source": [
    "ROWS = 3\n",
    "COLS = 3"
   ]
  },
  {
   "cell_type": "code",
   "execution_count": 4,
   "id": "3dafc11c-34c3-4983-b622-4301a6cafd27",
   "metadata": {},
   "outputs": [],
   "source": [
    "symbol_count = {\n",
    "    \"A\": 2,\n",
    "    \"B\": 4,\n",
    "    \"C\": 6,\n",
    "    \"D\": 8\n",
    "}"
   ]
  },
  {
   "cell_type": "code",
   "execution_count": 5,
   "id": "114029eb-8d6d-45d1-b326-d8204594a170",
   "metadata": {},
   "outputs": [],
   "source": [
    "symbol_value = {\n",
    "    \"A\": 5,\n",
    "    \"B\": 4,\n",
    "    \"C\": 3,\n",
    "    \"D\": 2\n",
    "}"
   ]
  },
  {
   "cell_type": "code",
   "execution_count": 6,
   "id": "e4b4c14a-9eb7-4d7a-b263-ba641bcc6c36",
   "metadata": {},
   "outputs": [],
   "source": [
    "def check_winnings(columns, lines, bet, values):\n",
    "    winnings = 0\n",
    "    winning_lines = []\n",
    "    \n",
    "    for line in range(lines):\n",
    "        symbol = columns[0][line]\n",
    "        for column in columns:\n",
    "            symbol_to_check = column[line]\n",
    "            if symbol != symbol_to_check:\n",
    "                break\n",
    "        else:\n",
    "            winnings += values[symbol] * bet\n",
    "            winning_lines.append(line + 1)\n",
    "            \n",
    "    return winnings, winning_lines"
   ]
  },
  {
   "cell_type": "code",
   "execution_count": 7,
   "id": "d40e64ca-4b14-4da6-9b6f-75fde89a9953",
   "metadata": {},
   "outputs": [],
   "source": [
    "def get_slot_machine_spin(rows, cols, symbols):\n",
    "    all_symbols = []\n",
    "    for symbol, symbol_count in symbols.items():\n",
    "        for _ in range(symbol_count):\n",
    "            all_symbols.append(symbol)\n",
    "\n",
    "    columns = []\n",
    "    for col in range(cols):\n",
    "        column = []\n",
    "        current_symbols = all_symbols[:]\n",
    "        for _ in range(rows):\n",
    "            value = random.choice(current_symbols)\n",
    "            current_symbols.remove(value)\n",
    "            column.append(value)\n",
    "        columns.append(column)\n",
    "\n",
    "    return columns"
   ]
  },
  {
   "cell_type": "code",
   "execution_count": 8,
   "id": "6ee8d67d-0df4-49dc-bcff-bc6372d4abbb",
   "metadata": {},
   "outputs": [],
   "source": [
    "def print_slot_machine(columns):\n",
    "    for row in range(len(columns[0])):\n",
    "        for i, column in enumerate(columns):\n",
    "            if i != len(columns) - 1:\n",
    "                print(column[row], end = \" | \")\n",
    "            else:\n",
    "                print(column[row], end = \"\")\n",
    "                \n",
    "        print()"
   ]
  },
  {
   "cell_type": "code",
   "execution_count": 9,
   "id": "0f73b1c2-7f87-4d5d-b01b-f0ce7c7b3ec6",
   "metadata": {},
   "outputs": [],
   "source": [
    "def deposit():\n",
    "    while True:\n",
    "        amount = input(\"What would you like to deposit? $\")\n",
    "        if amount.isdigit():\n",
    "            amount = int(amount)\n",
    "            if amount > 0:\n",
    "                break\n",
    "            else:\n",
    "                print(\"Amount must be greater than 0.\")\n",
    "        else:\n",
    "            print(\"Please enter a number\")\n",
    "            \n",
    "    return amount"
   ]
  },
  {
   "cell_type": "code",
   "execution_count": 10,
   "id": "dae34849-b829-4254-b6b2-988b12e706ca",
   "metadata": {},
   "outputs": [],
   "source": [
    "def get_number_of_lines():\n",
    "    while True:\n",
    "        lines = input(\"Enter the number of lines to bet on (1-\" + str(MAX_LINES) + \")? \")\n",
    "        if lines.isdigit():\n",
    "            lines = int(lines)\n",
    "            if 1 <= lines <= MAX_LINES:\n",
    "                break\n",
    "            else:\n",
    "                print(\"Enter a valid number of lines.\")\n",
    "        else:\n",
    "            print(\"Please enter a number.\")\n",
    "    return lines"
   ]
  },
  {
   "cell_type": "code",
   "execution_count": 11,
   "id": "360b9a49-4675-41eb-acbe-70bb6b9db42f",
   "metadata": {},
   "outputs": [],
   "source": [
    "def get_bet():\n",
    "    while True:\n",
    "        amount = input(\"What would you like to bet on each line? $\")\n",
    "        if amount.isdigit():\n",
    "            amount = int(amount)\n",
    "            if  MIN_BET <= amount <= MAX_BET:\n",
    "                break\n",
    "            else:\n",
    "                print(f\"Amount must be between ${MIN_BET} - ${MAX_BET}.\")\n",
    "        else:\n",
    "            print(\"Please enter a number\")\n",
    "            \n",
    "    return amount "
   ]
  },
  {
   "cell_type": "code",
   "execution_count": 12,
   "id": "5466cafb-2bf2-4386-b56c-87be5d4de3f2",
   "metadata": {},
   "outputs": [],
   "source": [
    "def spin(balance):\n",
    "    lines = get_number_of_lines()\n",
    "    while True:\n",
    "        bet = get_bet()\n",
    "        total_bet = bet * lines    \n",
    "\n",
    "        if total_bet > balance:\n",
    "            print(f\"You do not have enough to bet taht amount, your current balance is: ${balance}\")\n",
    "        else:\n",
    "            break\n",
    "            \n",
    "    print(\n",
    "        f\"You are betting ${bet} on {lines} lines. Total bet is equal to: ${total_bet}\")\n",
    "\n",
    "    slots = get_slot_machine_spin(ROWS, COLS, symbol_count)\n",
    "    print_slot_machine(slots)\n",
    "    winnings, winning_lines = check_winnings(slots, lines, bet, symbol_value)\n",
    "    print(f\"You won ${winnings}.\")    \n",
    "    print(f\"You won on lines: \", *winning_lines)\n",
    "    \n",
    "    return winnings - total_bet"
   ]
  },
  {
   "cell_type": "code",
   "execution_count": 13,
   "id": "bf89a750-ceea-4b01-a5a0-6bc791a4eaa7",
   "metadata": {},
   "outputs": [],
   "source": [
    "def main():\n",
    "    balance = deposit()\n",
    "    while True:\n",
    "        print(f\"Current balance is ${balance}\")\n",
    "        answer = input(\"Press enter to play (q to quit).\").lower()\n",
    "        if answer == \"q\":\n",
    "            break\n",
    "        balance += spin(balance)\n",
    "        \n",
    "    print(f\"You left with ${balance}\")"
   ]
  },
  {
   "cell_type": "code",
   "execution_count": 14,
   "id": "cd900682-b805-459c-906b-7cf8d5e63f8b",
   "metadata": {
    "scrolled": true
   },
   "outputs": [
    {
     "name": "stdin",
     "output_type": "stream",
     "text": [
      "What would you like to deposit? $ 1000\n"
     ]
    },
    {
     "name": "stdout",
     "output_type": "stream",
     "text": [
      "Current balance is $1000\n"
     ]
    },
    {
     "name": "stdin",
     "output_type": "stream",
     "text": [
      "Press enter to play (q to quit). 3\n",
      "Enter the number of lines to bet on (1-3)?  20\n"
     ]
    },
    {
     "name": "stdout",
     "output_type": "stream",
     "text": [
      "Enter a valid number of lines.\n"
     ]
    },
    {
     "name": "stdin",
     "output_type": "stream",
     "text": [
      "Enter the number of lines to bet on (1-3)?  3\n",
      "What would you like to bet on each line? $ 20\n"
     ]
    },
    {
     "name": "stdout",
     "output_type": "stream",
     "text": [
      "You are betting $20 on 3 lines. Total bet is equal to: $60\n",
      "D | C | C\n",
      "D | A | D\n",
      "D | D | D\n",
      "You won $40.\n",
      "You won on lines:  3\n",
      "Current balance is $980\n"
     ]
    },
    {
     "name": "stdin",
     "output_type": "stream",
     "text": [
      "Press enter to play (q to quit). 2\n",
      "Enter the number of lines to bet on (1-3)?  10\n"
     ]
    },
    {
     "name": "stdout",
     "output_type": "stream",
     "text": [
      "Enter a valid number of lines.\n"
     ]
    },
    {
     "name": "stdin",
     "output_type": "stream",
     "text": [
      "Enter the number of lines to bet on (1-3)?  2\n",
      "What would you like to bet on each line? $ 10\n"
     ]
    },
    {
     "name": "stdout",
     "output_type": "stream",
     "text": [
      "You are betting $10 on 2 lines. Total bet is equal to: $20\n",
      "D | B | D\n",
      "D | C | C\n",
      "A | D | C\n",
      "You won $0.\n",
      "You won on lines: \n",
      "Current balance is $960\n"
     ]
    },
    {
     "name": "stdin",
     "output_type": "stream",
     "text": [
      "Press enter to play (q to quit). \n",
      "Enter the number of lines to bet on (1-3)?  2\n",
      "What would you like to bet on each line? $ 20\n"
     ]
    },
    {
     "name": "stdout",
     "output_type": "stream",
     "text": [
      "You are betting $20 on 2 lines. Total bet is equal to: $40\n",
      "C | D | B\n",
      "D | D | D\n",
      "B | D | D\n",
      "You won $40.\n",
      "You won on lines:  2\n",
      "Current balance is $960\n"
     ]
    },
    {
     "name": "stdin",
     "output_type": "stream",
     "text": [
      "Press enter to play (q to quit). \n",
      "Enter the number of lines to bet on (1-3)?  q\n"
     ]
    },
    {
     "name": "stdout",
     "output_type": "stream",
     "text": [
      "Please enter a number.\n"
     ]
    },
    {
     "name": "stdin",
     "output_type": "stream",
     "text": [
      "Enter the number of lines to bet on (1-3)?  30\n"
     ]
    },
    {
     "name": "stdout",
     "output_type": "stream",
     "text": [
      "Enter a valid number of lines.\n"
     ]
    },
    {
     "name": "stdin",
     "output_type": "stream",
     "text": [
      "Enter the number of lines to bet on (1-3)?  3\n",
      "What would you like to bet on each line? $ 100\n"
     ]
    },
    {
     "name": "stdout",
     "output_type": "stream",
     "text": [
      "You are betting $100 on 3 lines. Total bet is equal to: $300\n",
      "B | D | C\n",
      "D | B | B\n",
      "C | C | D\n",
      "You won $0.\n",
      "You won on lines: \n",
      "Current balance is $660\n"
     ]
    },
    {
     "name": "stdin",
     "output_type": "stream",
     "text": [
      "Press enter to play (q to quit). \n",
      "Enter the number of lines to bet on (1-3)?  3\n",
      "What would you like to bet on each line? $ 100\n"
     ]
    },
    {
     "name": "stdout",
     "output_type": "stream",
     "text": [
      "You are betting $100 on 3 lines. Total bet is equal to: $300\n",
      "B | C | D\n",
      "C | D | C\n",
      "B | D | A\n",
      "You won $0.\n",
      "You won on lines: \n",
      "Current balance is $360\n"
     ]
    },
    {
     "name": "stdin",
     "output_type": "stream",
     "text": [
      "Press enter to play (q to quit). \n",
      "Enter the number of lines to bet on (1-3)?  3\n",
      "What would you like to bet on each line? $ 100\n"
     ]
    },
    {
     "name": "stdout",
     "output_type": "stream",
     "text": [
      "You are betting $100 on 3 lines. Total bet is equal to: $300\n",
      "D | A | C\n",
      "B | B | B\n",
      "D | C | B\n",
      "You won $400.\n",
      "You won on lines:  2\n",
      "Current balance is $460\n"
     ]
    },
    {
     "name": "stdin",
     "output_type": "stream",
     "text": [
      "Press enter to play (q to quit). \n",
      "Enter the number of lines to bet on (1-3)?  3\n",
      "What would you like to bet on each line? $ 100\n"
     ]
    },
    {
     "name": "stdout",
     "output_type": "stream",
     "text": [
      "You are betting $100 on 3 lines. Total bet is equal to: $300\n",
      "D | D | C\n",
      "D | D | D\n",
      "B | C | B\n",
      "You won $200.\n",
      "You won on lines:  2\n",
      "Current balance is $360\n"
     ]
    },
    {
     "name": "stdin",
     "output_type": "stream",
     "text": [
      "Press enter to play (q to quit). \n",
      "Enter the number of lines to bet on (1-3)?  1\n",
      "What would you like to bet on each line? $ 300\n"
     ]
    },
    {
     "name": "stdout",
     "output_type": "stream",
     "text": [
      "Amount must be between $1 - $100.\n"
     ]
    },
    {
     "name": "stdin",
     "output_type": "stream",
     "text": [
      "What would you like to bet on each line? $ \n"
     ]
    },
    {
     "name": "stdout",
     "output_type": "stream",
     "text": [
      "Please enter a number\n"
     ]
    },
    {
     "name": "stdin",
     "output_type": "stream",
     "text": [
      "What would you like to bet on each line? $ 1\n"
     ]
    },
    {
     "name": "stdout",
     "output_type": "stream",
     "text": [
      "You are betting $1 on 1 lines. Total bet is equal to: $1\n",
      "D | D | B\n",
      "A | D | D\n",
      "D | D | C\n",
      "You won $0.\n",
      "You won on lines: \n",
      "Current balance is $359\n"
     ]
    },
    {
     "name": "stdin",
     "output_type": "stream",
     "text": [
      "Press enter to play (q to quit). 100\n",
      "Enter the number of lines to bet on (1-3)?  1\n",
      "What would you like to bet on each line? $ 100\n"
     ]
    },
    {
     "name": "stdout",
     "output_type": "stream",
     "text": [
      "You are betting $100 on 1 lines. Total bet is equal to: $100\n",
      "D | B | C\n",
      "C | D | D\n",
      "B | B | D\n",
      "You won $0.\n",
      "You won on lines: \n",
      "Current balance is $259\n"
     ]
    },
    {
     "name": "stdin",
     "output_type": "stream",
     "text": [
      "Press enter to play (q to quit). \n",
      "Enter the number of lines to bet on (1-3)?  1\n",
      "What would you like to bet on each line? $ 100\n"
     ]
    },
    {
     "name": "stdout",
     "output_type": "stream",
     "text": [
      "You are betting $100 on 1 lines. Total bet is equal to: $100\n",
      "B | B | C\n",
      "A | D | B\n",
      "C | C | B\n",
      "You won $0.\n",
      "You won on lines: \n",
      "Current balance is $159\n"
     ]
    },
    {
     "name": "stdin",
     "output_type": "stream",
     "text": [
      "Press enter to play (q to quit). 1\n",
      "Enter the number of lines to bet on (1-3)?  1\n",
      "What would you like to bet on each line? $ 100\n"
     ]
    },
    {
     "name": "stdout",
     "output_type": "stream",
     "text": [
      "You are betting $100 on 1 lines. Total bet is equal to: $100\n",
      "C | C | C\n",
      "B | D | B\n",
      "B | D | D\n",
      "You won $300.\n",
      "You won on lines:  1\n",
      "Current balance is $359\n"
     ]
    },
    {
     "name": "stdin",
     "output_type": "stream",
     "text": [
      "Press enter to play (q to quit). 1\n",
      "Enter the number of lines to bet on (1-3)?  100\n"
     ]
    },
    {
     "name": "stdout",
     "output_type": "stream",
     "text": [
      "Enter a valid number of lines.\n"
     ]
    },
    {
     "name": "stdin",
     "output_type": "stream",
     "text": [
      "Enter the number of lines to bet on (1-3)?  1\n",
      "What would you like to bet on each line? $ 100\n"
     ]
    },
    {
     "name": "stdout",
     "output_type": "stream",
     "text": [
      "You are betting $100 on 1 lines. Total bet is equal to: $100\n",
      "B | B | D\n",
      "C | C | C\n",
      "D | C | C\n",
      "You won $0.\n",
      "You won on lines: \n",
      "Current balance is $259\n"
     ]
    },
    {
     "name": "stdin",
     "output_type": "stream",
     "text": [
      "Press enter to play (q to quit). \n",
      "Enter the number of lines to bet on (1-3)?  1\n",
      "What would you like to bet on each line? $ 100\n"
     ]
    },
    {
     "name": "stdout",
     "output_type": "stream",
     "text": [
      "You are betting $100 on 1 lines. Total bet is equal to: $100\n",
      "D | A | C\n",
      "C | D | D\n",
      "A | C | B\n",
      "You won $0.\n",
      "You won on lines: \n",
      "Current balance is $159\n"
     ]
    },
    {
     "name": "stdin",
     "output_type": "stream",
     "text": [
      "Press enter to play (q to quit). \n",
      "Enter the number of lines to bet on (1-3)?  1\n",
      "What would you like to bet on each line? $ 100\n"
     ]
    },
    {
     "name": "stdout",
     "output_type": "stream",
     "text": [
      "You are betting $100 on 1 lines. Total bet is equal to: $100\n",
      "C | B | D\n",
      "D | C | B\n",
      "C | B | C\n",
      "You won $0.\n",
      "You won on lines: \n",
      "Current balance is $59\n"
     ]
    },
    {
     "name": "stdin",
     "output_type": "stream",
     "text": [
      "Press enter to play (q to quit). \n",
      "Enter the number of lines to bet on (1-3)?  1\n",
      "What would you like to bet on each line? $ 59\n"
     ]
    },
    {
     "name": "stdout",
     "output_type": "stream",
     "text": [
      "You are betting $59 on 1 lines. Total bet is equal to: $59\n",
      "C | C | C\n",
      "D | B | D\n",
      "B | B | D\n",
      "You won $177.\n",
      "You won on lines:  1\n",
      "Current balance is $177\n"
     ]
    },
    {
     "name": "stdin",
     "output_type": "stream",
     "text": [
      "Press enter to play (q to quit). \n",
      "Enter the number of lines to bet on (1-3)?  1\n",
      "What would you like to bet on each line? $ 100\n"
     ]
    },
    {
     "name": "stdout",
     "output_type": "stream",
     "text": [
      "You are betting $100 on 1 lines. Total bet is equal to: $100\n",
      "C | A | C\n",
      "C | C | C\n",
      "B | C | D\n",
      "You won $0.\n",
      "You won on lines: \n",
      "Current balance is $77\n"
     ]
    },
    {
     "name": "stdin",
     "output_type": "stream",
     "text": [
      "Press enter to play (q to quit). \n",
      "Enter the number of lines to bet on (1-3)?  1\n",
      "What would you like to bet on each line? $ 77\n"
     ]
    },
    {
     "name": "stdout",
     "output_type": "stream",
     "text": [
      "You are betting $77 on 1 lines. Total bet is equal to: $77\n",
      "D | C | B\n",
      "C | D | C\n",
      "C | D | A\n",
      "You won $0.\n",
      "You won on lines: \n",
      "Current balance is $0\n"
     ]
    },
    {
     "name": "stdin",
     "output_type": "stream",
     "text": [
      "Press enter to play (q to quit). \n",
      "Enter the number of lines to bet on (1-3)?  1\n",
      "What would you like to bet on each line? $ 1\n"
     ]
    },
    {
     "name": "stdout",
     "output_type": "stream",
     "text": [
      "You do not have enough to bet taht amount, your current balance is: $0\n"
     ]
    },
    {
     "name": "stdin",
     "output_type": "stream",
     "text": [
      "What would you like to bet on each line? $ q\n"
     ]
    },
    {
     "name": "stdout",
     "output_type": "stream",
     "text": [
      "Please enter a number\n"
     ]
    },
    {
     "name": "stdin",
     "output_type": "stream",
     "text": [
      "What would you like to bet on each line? $ 0\n"
     ]
    },
    {
     "name": "stdout",
     "output_type": "stream",
     "text": [
      "Amount must be between $1 - $100.\n"
     ]
    },
    {
     "name": "stdin",
     "output_type": "stream",
     "text": [
      "What would you like to bet on each line? $ 1\n"
     ]
    },
    {
     "name": "stdout",
     "output_type": "stream",
     "text": [
      "You do not have enough to bet taht amount, your current balance is: $0\n"
     ]
    },
    {
     "name": "stdin",
     "output_type": "stream",
     "text": [
      "What would you like to bet on each line? $ 1\n"
     ]
    },
    {
     "name": "stdout",
     "output_type": "stream",
     "text": [
      "You do not have enough to bet taht amount, your current balance is: $0\n"
     ]
    },
    {
     "name": "stdin",
     "output_type": "stream",
     "text": [
      "What would you like to bet on each line? $ 10\n"
     ]
    },
    {
     "name": "stdout",
     "output_type": "stream",
     "text": [
      "You do not have enough to bet taht amount, your current balance is: $0\n"
     ]
    },
    {
     "name": "stdin",
     "output_type": "stream",
     "text": [
      "What would you like to bet on each line? $ q\n"
     ]
    },
    {
     "name": "stdout",
     "output_type": "stream",
     "text": [
      "Please enter a number\n"
     ]
    },
    {
     "name": "stdin",
     "output_type": "stream",
     "text": [
      "What would you like to bet on each line? $ 0\n"
     ]
    },
    {
     "name": "stdout",
     "output_type": "stream",
     "text": [
      "Amount must be between $1 - $100.\n"
     ]
    },
    {
     "ename": "KeyboardInterrupt",
     "evalue": "Interrupted by user",
     "output_type": "error",
     "traceback": [
      "\u001b[0;31m---------------------------------------------------------------------------\u001b[0m",
      "\u001b[0;31mKeyboardInterrupt\u001b[0m                         Traceback (most recent call last)",
      "Cell \u001b[0;32mIn[14], line 1\u001b[0m\n\u001b[0;32m----> 1\u001b[0m \u001b[43mmain\u001b[49m\u001b[43m(\u001b[49m\u001b[43m)\u001b[49m\n",
      "Cell \u001b[0;32mIn[13], line 8\u001b[0m, in \u001b[0;36mmain\u001b[0;34m()\u001b[0m\n\u001b[1;32m      6\u001b[0m     \u001b[38;5;28;01mif\u001b[39;00m answer \u001b[38;5;241m==\u001b[39m \u001b[38;5;124m\"\u001b[39m\u001b[38;5;124mq\u001b[39m\u001b[38;5;124m\"\u001b[39m:\n\u001b[1;32m      7\u001b[0m         \u001b[38;5;28;01mbreak\u001b[39;00m\n\u001b[0;32m----> 8\u001b[0m     balance \u001b[38;5;241m+\u001b[39m\u001b[38;5;241m=\u001b[39m \u001b[43mspin\u001b[49m\u001b[43m(\u001b[49m\u001b[43mbalance\u001b[49m\u001b[43m)\u001b[49m\n\u001b[1;32m     10\u001b[0m \u001b[38;5;28mprint\u001b[39m(\u001b[38;5;124mf\u001b[39m\u001b[38;5;124m\"\u001b[39m\u001b[38;5;124mYou left with $\u001b[39m\u001b[38;5;132;01m{\u001b[39;00mbalance\u001b[38;5;132;01m}\u001b[39;00m\u001b[38;5;124m\"\u001b[39m)\n",
      "Cell \u001b[0;32mIn[12], line 4\u001b[0m, in \u001b[0;36mspin\u001b[0;34m(balance)\u001b[0m\n\u001b[1;32m      2\u001b[0m lines \u001b[38;5;241m=\u001b[39m get_number_of_lines()\n\u001b[1;32m      3\u001b[0m \u001b[38;5;28;01mwhile\u001b[39;00m \u001b[38;5;28;01mTrue\u001b[39;00m:\n\u001b[0;32m----> 4\u001b[0m     bet \u001b[38;5;241m=\u001b[39m \u001b[43mget_bet\u001b[49m\u001b[43m(\u001b[49m\u001b[43m)\u001b[49m\n\u001b[1;32m      5\u001b[0m     total_bet \u001b[38;5;241m=\u001b[39m bet \u001b[38;5;241m*\u001b[39m lines    \n\u001b[1;32m      7\u001b[0m     \u001b[38;5;28;01mif\u001b[39;00m total_bet \u001b[38;5;241m>\u001b[39m balance:\n",
      "Cell \u001b[0;32mIn[11], line 3\u001b[0m, in \u001b[0;36mget_bet\u001b[0;34m()\u001b[0m\n\u001b[1;32m      1\u001b[0m \u001b[38;5;28;01mdef\u001b[39;00m\u001b[38;5;250m \u001b[39m\u001b[38;5;21mget_bet\u001b[39m():\n\u001b[1;32m      2\u001b[0m     \u001b[38;5;28;01mwhile\u001b[39;00m \u001b[38;5;28;01mTrue\u001b[39;00m:\n\u001b[0;32m----> 3\u001b[0m         amount \u001b[38;5;241m=\u001b[39m \u001b[38;5;28;43minput\u001b[39;49m\u001b[43m(\u001b[49m\u001b[38;5;124;43m\"\u001b[39;49m\u001b[38;5;124;43mWhat would you like to bet on each line? $\u001b[39;49m\u001b[38;5;124;43m\"\u001b[39;49m\u001b[43m)\u001b[49m\n\u001b[1;32m      4\u001b[0m         \u001b[38;5;28;01mif\u001b[39;00m amount\u001b[38;5;241m.\u001b[39misdigit():\n\u001b[1;32m      5\u001b[0m             amount \u001b[38;5;241m=\u001b[39m \u001b[38;5;28mint\u001b[39m(amount)\n",
      "File \u001b[0;32m~/.local/lib/python3.10/site-packages/ipykernel/kernelbase.py:1282\u001b[0m, in \u001b[0;36mKernel.raw_input\u001b[0;34m(self, prompt)\u001b[0m\n\u001b[1;32m   1280\u001b[0m     msg \u001b[38;5;241m=\u001b[39m \u001b[38;5;124m\"\u001b[39m\u001b[38;5;124mraw_input was called, but this frontend does not support input requests.\u001b[39m\u001b[38;5;124m\"\u001b[39m\n\u001b[1;32m   1281\u001b[0m     \u001b[38;5;28;01mraise\u001b[39;00m StdinNotImplementedError(msg)\n\u001b[0;32m-> 1282\u001b[0m \u001b[38;5;28;01mreturn\u001b[39;00m \u001b[38;5;28;43mself\u001b[39;49m\u001b[38;5;241;43m.\u001b[39;49m\u001b[43m_input_request\u001b[49m\u001b[43m(\u001b[49m\n\u001b[1;32m   1283\u001b[0m \u001b[43m    \u001b[49m\u001b[38;5;28;43mstr\u001b[39;49m\u001b[43m(\u001b[49m\u001b[43mprompt\u001b[49m\u001b[43m)\u001b[49m\u001b[43m,\u001b[49m\n\u001b[1;32m   1284\u001b[0m \u001b[43m    \u001b[49m\u001b[38;5;28;43mself\u001b[39;49m\u001b[38;5;241;43m.\u001b[39;49m\u001b[43m_parent_ident\u001b[49m\u001b[43m[\u001b[49m\u001b[38;5;124;43m\"\u001b[39;49m\u001b[38;5;124;43mshell\u001b[39;49m\u001b[38;5;124;43m\"\u001b[39;49m\u001b[43m]\u001b[49m\u001b[43m,\u001b[49m\n\u001b[1;32m   1285\u001b[0m \u001b[43m    \u001b[49m\u001b[38;5;28;43mself\u001b[39;49m\u001b[38;5;241;43m.\u001b[39;49m\u001b[43mget_parent\u001b[49m\u001b[43m(\u001b[49m\u001b[38;5;124;43m\"\u001b[39;49m\u001b[38;5;124;43mshell\u001b[39;49m\u001b[38;5;124;43m\"\u001b[39;49m\u001b[43m)\u001b[49m\u001b[43m,\u001b[49m\n\u001b[1;32m   1286\u001b[0m \u001b[43m    \u001b[49m\u001b[43mpassword\u001b[49m\u001b[38;5;241;43m=\u001b[39;49m\u001b[38;5;28;43;01mFalse\u001b[39;49;00m\u001b[43m,\u001b[49m\n\u001b[1;32m   1287\u001b[0m \u001b[43m\u001b[49m\u001b[43m)\u001b[49m\n",
      "File \u001b[0;32m~/.local/lib/python3.10/site-packages/ipykernel/kernelbase.py:1325\u001b[0m, in \u001b[0;36mKernel._input_request\u001b[0;34m(self, prompt, ident, parent, password)\u001b[0m\n\u001b[1;32m   1322\u001b[0m \u001b[38;5;28;01mexcept\u001b[39;00m \u001b[38;5;167;01mKeyboardInterrupt\u001b[39;00m:\n\u001b[1;32m   1323\u001b[0m     \u001b[38;5;66;03m# re-raise KeyboardInterrupt, to truncate traceback\u001b[39;00m\n\u001b[1;32m   1324\u001b[0m     msg \u001b[38;5;241m=\u001b[39m \u001b[38;5;124m\"\u001b[39m\u001b[38;5;124mInterrupted by user\u001b[39m\u001b[38;5;124m\"\u001b[39m\n\u001b[0;32m-> 1325\u001b[0m     \u001b[38;5;28;01mraise\u001b[39;00m \u001b[38;5;167;01mKeyboardInterrupt\u001b[39;00m(msg) \u001b[38;5;28;01mfrom\u001b[39;00m\u001b[38;5;250m \u001b[39m\u001b[38;5;28;01mNone\u001b[39;00m\n\u001b[1;32m   1326\u001b[0m \u001b[38;5;28;01mexcept\u001b[39;00m \u001b[38;5;167;01mException\u001b[39;00m:\n\u001b[1;32m   1327\u001b[0m     \u001b[38;5;28mself\u001b[39m\u001b[38;5;241m.\u001b[39mlog\u001b[38;5;241m.\u001b[39mwarning(\u001b[38;5;124m\"\u001b[39m\u001b[38;5;124mInvalid Message:\u001b[39m\u001b[38;5;124m\"\u001b[39m, exc_info\u001b[38;5;241m=\u001b[39m\u001b[38;5;28;01mTrue\u001b[39;00m)\n",
      "\u001b[0;31mKeyboardInterrupt\u001b[0m: Interrupted by user"
     ]
    }
   ],
   "source": [
    "main()"
   ]
  }
 ],
 "metadata": {
  "kernelspec": {
   "display_name": "Python 3 (ipykernel)",
   "language": "python",
   "name": "python3"
  },
  "language_info": {
   "codemirror_mode": {
    "name": "ipython",
    "version": 3
   },
   "file_extension": ".py",
   "mimetype": "text/x-python",
   "name": "python",
   "nbconvert_exporter": "python",
   "pygments_lexer": "ipython3",
   "version": "3.10.12"
  }
 },
 "nbformat": 4,
 "nbformat_minor": 5
}
