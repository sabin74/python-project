{
 "cells": [
  {
   "cell_type": "code",
   "execution_count": 1,
   "id": "fefa5582-b02b-47ae-a68c-5e2d4f1ba713",
   "metadata": {},
   "outputs": [],
   "source": [
    "import random"
   ]
  },
  {
   "cell_type": "code",
   "execution_count": 2,
   "id": "69cdb9c2-6ed8-4ed3-b0ff-7de50b57b2cc",
   "metadata": {},
   "outputs": [],
   "source": [
    "COLORS = [\"R\", \"G\", \"B\", \"Y\", \"W\", \"O\"]\n",
    "TRIES = 10\n",
    "CODE_LENGTH = 4"
   ]
  },
  {
   "cell_type": "code",
   "execution_count": 3,
   "id": "f5dc510f-8e2f-450b-9509-62142b98e33b",
   "metadata": {},
   "outputs": [],
   "source": [
    "def generate_code():\n",
    "    code = []\n",
    "\n",
    "    for _ in range(CODE_LENGTH): \n",
    "        color = random.choice(COLORS)\n",
    "        code.append(color)\n",
    "\n",
    "    return code"
   ]
  },
  {
   "cell_type": "code",
   "execution_count": 4,
   "id": "935d2fb8-7e7f-4465-a54d-77f1951a02b3",
   "metadata": {},
   "outputs": [],
   "source": [
    "def guess_code():\n",
    "    while True:\n",
    "        guess = input(\"Guess: \").upper().split(\" \")\n",
    "    \n",
    "        if len(guess) != CODE_LENGTH:\n",
    "            print(f\"You must guess {CODE_LENGTH} colors.\")\n",
    "            continue\n",
    "    \n",
    "        for color in guess:\n",
    "            if color not in COLORS:\n",
    "                print(f\"Invalid color: {color}. Try Again.\")\n",
    "                break\n",
    "        else:\n",
    "            break\n",
    "    \n",
    "    return guess"
   ]
  },
  {
   "cell_type": "code",
   "execution_count": 5,
   "id": "dd109f31-d8be-484c-a5ca-b852ae3e709f",
   "metadata": {},
   "outputs": [],
   "source": [
    "def check_code(guess, real_code): \n",
    "    color_counts = {}\n",
    "    correct_pos = 0\n",
    "    incorrect_pos = 0\n",
    "\n",
    "    for color in real_code:\n",
    "        if color not in color_counts:\n",
    "            color_counts[color] = 0\n",
    "        color_counts[color] += 1 \n",
    "\n",
    "\n",
    "    for guess_color, real_color in zip(guess, real_code): \n",
    "        if guess_color == real_color:\n",
    "            correct_pos += 1 \n",
    "            color_counts[guess_color] -= 1\n",
    "\n",
    "    for guess_color, real_color in zip(guess, real_code): \n",
    "        if guess_color in color_counts and color_counts[guess_color] > 0:\n",
    "            incorrect_pos += 1\n",
    "            color_counts[guess_color] -= 1\n",
    "\n",
    "    return correct_pos , incorrect_pos\n"
   ]
  },
  {
   "cell_type": "code",
   "execution_count": 8,
   "id": "1786054a-5ce0-414c-a066-6aec7cf09991",
   "metadata": {},
   "outputs": [],
   "source": [
    "def game():\n",
    "    print(f\"Welcome to mastermind, you have {TRIES} to guess the code...\")\n",
    "    print(\"The valid color are\", *COLORS)\n",
    "    \n",
    "    code = generate_code()\n",
    "    for attempts in range(1, TRIES + 1):\n",
    "        guess = guess_code()\n",
    "        correct_pos, incorrect_pos = check_code(guess, code)\n",
    "\n",
    "        if correct_pos == CODE_LENGTH:\n",
    "            print(f\"You guessed the code in {attempts} tries!\")\n",
    "            break\n",
    "\n",
    "        print(f\"Correct Position: {correct_pos} | Incorrect Position: {incorrect_pos}\")\n",
    "    \n",
    "    else:\n",
    "        print(\"You ran out of tries, the code was:\", *code)"
   ]
  },
  {
   "cell_type": "code",
   "execution_count": 9,
   "id": "57c89823-6e9f-4bbb-b2ee-01b7af4bc514",
   "metadata": {},
   "outputs": [
    {
     "name": "stdout",
     "output_type": "stream",
     "text": [
      "Welcome to mastermind, you have 10 to guess the code...\n",
      "The valid color are R G B Y W O\n"
     ]
    },
    {
     "name": "stdin",
     "output_type": "stream",
     "text": [
      "Guess:  R R R R\n"
     ]
    },
    {
     "name": "stdout",
     "output_type": "stream",
     "text": [
      "Correct Position: 0 | Incorrect Position: 0\n"
     ]
    },
    {
     "name": "stdin",
     "output_type": "stream",
     "text": [
      "Guess:  G G G G\n"
     ]
    },
    {
     "name": "stdout",
     "output_type": "stream",
     "text": [
      "Correct Position: 0 | Incorrect Position: 0\n"
     ]
    },
    {
     "name": "stdin",
     "output_type": "stream",
     "text": [
      "Guess:  B B B B\n"
     ]
    },
    {
     "name": "stdout",
     "output_type": "stream",
     "text": [
      "Correct Position: 0 | Incorrect Position: 0\n"
     ]
    },
    {
     "name": "stdin",
     "output_type": "stream",
     "text": [
      "Guess:  Y Y Y Y\n"
     ]
    },
    {
     "name": "stdout",
     "output_type": "stream",
     "text": [
      "Correct Position: 1 | Incorrect Position: 0\n"
     ]
    },
    {
     "name": "stdin",
     "output_type": "stream",
     "text": [
      "Guess:  W W W W\n"
     ]
    },
    {
     "name": "stdout",
     "output_type": "stream",
     "text": [
      "Correct Position: 1 | Incorrect Position: 0\n"
     ]
    },
    {
     "name": "stdin",
     "output_type": "stream",
     "text": [
      "Guess:  Y W O O\n"
     ]
    },
    {
     "name": "stdout",
     "output_type": "stream",
     "text": [
      "Correct Position: 2 | Incorrect Position: 2\n"
     ]
    },
    {
     "name": "stdin",
     "output_type": "stream",
     "text": [
      "Guess:  0 0 Y W\n"
     ]
    },
    {
     "name": "stdout",
     "output_type": "stream",
     "text": [
      "Invalid color: 0. Try Again.\n"
     ]
    },
    {
     "name": "stdin",
     "output_type": "stream",
     "text": [
      "Guess:  O O Y W\n"
     ]
    },
    {
     "name": "stdout",
     "output_type": "stream",
     "text": [
      "Correct Position: 2 | Incorrect Position: 2\n"
     ]
    },
    {
     "name": "stdin",
     "output_type": "stream",
     "text": [
      "Guess:  Y O O W\n"
     ]
    },
    {
     "name": "stdout",
     "output_type": "stream",
     "text": [
      "Correct Position: 0 | Incorrect Position: 4\n"
     ]
    },
    {
     "name": "stdin",
     "output_type": "stream",
     "text": [
      "Guess:  O W Y O\n"
     ]
    },
    {
     "name": "stdout",
     "output_type": "stream",
     "text": [
      "You guessed the code in 9 tries!\n"
     ]
    }
   ],
   "source": [
    "if __name__ == \"__main__\":\n",
    "    game()"
   ]
  },
  {
   "cell_type": "code",
   "execution_count": null,
   "id": "7399810a-1269-4d37-8a93-692a7db31368",
   "metadata": {},
   "outputs": [],
   "source": []
  },
  {
   "cell_type": "code",
   "execution_count": null,
   "id": "872f2d50-5bcb-4a73-a307-e477a00423c8",
   "metadata": {},
   "outputs": [],
   "source": []
  }
 ],
 "metadata": {
  "kernelspec": {
   "display_name": "Python 3 (ipykernel)",
   "language": "python",
   "name": "python3"
  },
  "language_info": {
   "codemirror_mode": {
    "name": "ipython",
    "version": 3
   },
   "file_extension": ".py",
   "mimetype": "text/x-python",
   "name": "python",
   "nbconvert_exporter": "python",
   "pygments_lexer": "ipython3",
   "version": "3.10.12"
  }
 },
 "nbformat": 4,
 "nbformat_minor": 5
}
