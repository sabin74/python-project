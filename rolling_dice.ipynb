{
 "cells": [
  {
   "cell_type": "code",
   "execution_count": 1,
   "id": "6fddc7b8-e0a6-4f7c-9d2b-99152e272d41",
   "metadata": {},
   "outputs": [
    {
     "name": "stdin",
     "output_type": "stream",
     "text": [
      "Enter the number of players (2 - 4):  2\n"
     ]
    },
    {
     "name": "stdout",
     "output_type": "stream",
     "text": [
      "\n",
      "Player number 1 turn has just started!\n",
      "Your total score is: 0 \n",
      "\n"
     ]
    },
    {
     "name": "stdin",
     "output_type": "stream",
     "text": [
      "Would you like to roll (y)?  y\n"
     ]
    },
    {
     "name": "stdout",
     "output_type": "stream",
     "text": [
      "You rolled a 1! Turn done!\n",
      "Your total score is: 0\n",
      "\n",
      "Player number 2 turn has just started!\n",
      "Your total score is: 0 \n",
      "\n"
     ]
    },
    {
     "name": "stdin",
     "output_type": "stream",
     "text": [
      "Would you like to roll (y)?  y\n"
     ]
    },
    {
     "name": "stdout",
     "output_type": "stream",
     "text": [
      "You rolled a: 4\n",
      "Your score is: 4\n"
     ]
    },
    {
     "name": "stdin",
     "output_type": "stream",
     "text": [
      "Would you like to roll (y)?  y\n"
     ]
    },
    {
     "name": "stdout",
     "output_type": "stream",
     "text": [
      "You rolled a: 5\n",
      "Your score is: 9\n"
     ]
    },
    {
     "name": "stdin",
     "output_type": "stream",
     "text": [
      "Would you like to roll (y)?  y\n"
     ]
    },
    {
     "name": "stdout",
     "output_type": "stream",
     "text": [
      "You rolled a: 2\n",
      "Your score is: 11\n"
     ]
    },
    {
     "name": "stdin",
     "output_type": "stream",
     "text": [
      "Would you like to roll (y)?  y\n"
     ]
    },
    {
     "name": "stdout",
     "output_type": "stream",
     "text": [
      "You rolled a: 3\n",
      "Your score is: 14\n"
     ]
    },
    {
     "name": "stdin",
     "output_type": "stream",
     "text": [
      "Would you like to roll (y)?  y\n"
     ]
    },
    {
     "name": "stdout",
     "output_type": "stream",
     "text": [
      "You rolled a: 6\n",
      "Your score is: 20\n"
     ]
    },
    {
     "name": "stdin",
     "output_type": "stream",
     "text": [
      "Would you like to roll (y)?  y\n"
     ]
    },
    {
     "name": "stdout",
     "output_type": "stream",
     "text": [
      "You rolled a 1! Turn done!\n",
      "Your total score is: 0\n",
      "\n",
      "Player number 1 turn has just started!\n",
      "Your total score is: 0 \n",
      "\n"
     ]
    },
    {
     "name": "stdin",
     "output_type": "stream",
     "text": [
      "Would you like to roll (y)?  y\n"
     ]
    },
    {
     "name": "stdout",
     "output_type": "stream",
     "text": [
      "You rolled a: 2\n",
      "Your score is: 2\n"
     ]
    },
    {
     "name": "stdin",
     "output_type": "stream",
     "text": [
      "Would you like to roll (y)?  \n"
     ]
    },
    {
     "name": "stdout",
     "output_type": "stream",
     "text": [
      "Your total score is: 2\n",
      "\n",
      "Player number 2 turn has just started!\n",
      "Your total score is: 0 \n",
      "\n"
     ]
    },
    {
     "name": "stdin",
     "output_type": "stream",
     "text": [
      "Would you like to roll (y)?  \n"
     ]
    },
    {
     "name": "stdout",
     "output_type": "stream",
     "text": [
      "Your total score is: 0\n",
      "\n",
      "Player number 1 turn has just started!\n",
      "Your total score is: 2 \n",
      "\n"
     ]
    },
    {
     "name": "stdin",
     "output_type": "stream",
     "text": [
      "Would you like to roll (y)?  \n"
     ]
    },
    {
     "name": "stdout",
     "output_type": "stream",
     "text": [
      "Your total score is: 2\n",
      "\n",
      "Player number 2 turn has just started!\n",
      "Your total score is: 0 \n",
      "\n"
     ]
    },
    {
     "name": "stdin",
     "output_type": "stream",
     "text": [
      "Would you like to roll (y)?  \n",
      "Would you like to roll (y)?  \n"
     ]
    },
    {
     "name": "stdout",
     "output_type": "stream",
     "text": [
      "Your total score is: 0\n",
      "\n",
      "Player number 1 turn has just started!\n",
      "Your total score is: 2 \n",
      "\n",
      "Your total score is: 2\n",
      "\n",
      "Player number 2 turn has just started!\n",
      "Your total score is: 0 \n",
      "\n"
     ]
    },
    {
     "name": "stdin",
     "output_type": "stream",
     "text": [
      "Would you like to roll (y)?  \n"
     ]
    },
    {
     "name": "stdout",
     "output_type": "stream",
     "text": [
      "Your total score is: 0\n",
      "\n",
      "Player number 1 turn has just started!\n",
      "Your total score is: 2 \n",
      "\n"
     ]
    },
    {
     "name": "stdin",
     "output_type": "stream",
     "text": [
      "Would you like to roll (y)?  \n"
     ]
    },
    {
     "name": "stdout",
     "output_type": "stream",
     "text": [
      "Your total score is: 2\n",
      "\n",
      "Player number 2 turn has just started!\n",
      "Your total score is: 0 \n",
      "\n"
     ]
    },
    {
     "name": "stdin",
     "output_type": "stream",
     "text": [
      "Would you like to roll (y)?  \n"
     ]
    },
    {
     "name": "stdout",
     "output_type": "stream",
     "text": [
      "Your total score is: 0\n",
      "\n",
      "Player number 1 turn has just started!\n",
      "Your total score is: 2 \n",
      "\n"
     ]
    },
    {
     "name": "stdin",
     "output_type": "stream",
     "text": [
      "Would you like to roll (y)?  \n"
     ]
    },
    {
     "name": "stdout",
     "output_type": "stream",
     "text": [
      "Your total score is: 2\n",
      "\n",
      "Player number 2 turn has just started!\n",
      "Your total score is: 0 \n",
      "\n"
     ]
    },
    {
     "name": "stdin",
     "output_type": "stream",
     "text": [
      "Would you like to roll (y)?  \n"
     ]
    },
    {
     "name": "stdout",
     "output_type": "stream",
     "text": [
      "Your total score is: 0\n",
      "\n",
      "Player number 1 turn has just started!\n",
      "Your total score is: 2 \n",
      "\n"
     ]
    },
    {
     "name": "stdin",
     "output_type": "stream",
     "text": [
      "Would you like to roll (y)?  \n"
     ]
    },
    {
     "name": "stdout",
     "output_type": "stream",
     "text": [
      "Your total score is: 2\n",
      "\n",
      "Player number 2 turn has just started!\n",
      "Your total score is: 0 \n",
      "\n"
     ]
    },
    {
     "name": "stdin",
     "output_type": "stream",
     "text": [
      "Would you like to roll (y)?  \n"
     ]
    },
    {
     "name": "stdout",
     "output_type": "stream",
     "text": [
      "Your total score is: 0\n",
      "\n",
      "Player number 1 turn has just started!\n",
      "Your total score is: 2 \n",
      "\n"
     ]
    },
    {
     "name": "stdin",
     "output_type": "stream",
     "text": [
      "Would you like to roll (y)?  \n"
     ]
    },
    {
     "name": "stdout",
     "output_type": "stream",
     "text": [
      "Your total score is: 2\n",
      "\n",
      "Player number 2 turn has just started!\n",
      "Your total score is: 0 \n",
      "\n"
     ]
    },
    {
     "name": "stdin",
     "output_type": "stream",
     "text": [
      "Would you like to roll (y)?  \n"
     ]
    },
    {
     "name": "stdout",
     "output_type": "stream",
     "text": [
      "Your total score is: 0\n",
      "\n",
      "Player number 1 turn has just started!\n",
      "Your total score is: 2 \n",
      "\n"
     ]
    },
    {
     "name": "stdin",
     "output_type": "stream",
     "text": [
      "Would you like to roll (y)?  \n"
     ]
    },
    {
     "name": "stdout",
     "output_type": "stream",
     "text": [
      "Your total score is: 2\n",
      "\n",
      "Player number 2 turn has just started!\n",
      "Your total score is: 0 \n",
      "\n"
     ]
    },
    {
     "name": "stdin",
     "output_type": "stream",
     "text": [
      "Would you like to roll (y)?  \n"
     ]
    },
    {
     "name": "stdout",
     "output_type": "stream",
     "text": [
      "Your total score is: 0\n",
      "\n",
      "Player number 1 turn has just started!\n",
      "Your total score is: 2 \n",
      "\n"
     ]
    },
    {
     "name": "stdin",
     "output_type": "stream",
     "text": [
      "Would you like to roll (y)?  \n"
     ]
    },
    {
     "name": "stdout",
     "output_type": "stream",
     "text": [
      "Your total score is: 2\n",
      "\n",
      "Player number 2 turn has just started!\n",
      "Your total score is: 0 \n",
      "\n"
     ]
    },
    {
     "name": "stdin",
     "output_type": "stream",
     "text": [
      "Would you like to roll (y)?  \n"
     ]
    },
    {
     "name": "stdout",
     "output_type": "stream",
     "text": [
      "Your total score is: 0\n",
      "\n",
      "Player number 1 turn has just started!\n",
      "Your total score is: 2 \n",
      "\n"
     ]
    },
    {
     "name": "stdin",
     "output_type": "stream",
     "text": [
      "Would you like to roll (y)?  \n"
     ]
    },
    {
     "name": "stdout",
     "output_type": "stream",
     "text": [
      "Your total score is: 2\n",
      "\n",
      "Player number 2 turn has just started!\n",
      "Your total score is: 0 \n",
      "\n"
     ]
    },
    {
     "name": "stdin",
     "output_type": "stream",
     "text": [
      "Would you like to roll (y)?  \n"
     ]
    },
    {
     "name": "stdout",
     "output_type": "stream",
     "text": [
      "Your total score is: 0\n",
      "\n",
      "Player number 1 turn has just started!\n",
      "Your total score is: 2 \n",
      "\n"
     ]
    },
    {
     "name": "stdin",
     "output_type": "stream",
     "text": [
      "Would you like to roll (y)?  \n"
     ]
    },
    {
     "name": "stdout",
     "output_type": "stream",
     "text": [
      "Your total score is: 2\n",
      "\n",
      "Player number 2 turn has just started!\n",
      "Your total score is: 0 \n",
      "\n"
     ]
    },
    {
     "name": "stdin",
     "output_type": "stream",
     "text": [
      "Would you like to roll (y)?  \n"
     ]
    },
    {
     "name": "stdout",
     "output_type": "stream",
     "text": [
      "Your total score is: 0\n",
      "\n",
      "Player number 1 turn has just started!\n",
      "Your total score is: 2 \n",
      "\n"
     ]
    },
    {
     "name": "stdin",
     "output_type": "stream",
     "text": [
      "Would you like to roll (y)?  \n"
     ]
    },
    {
     "name": "stdout",
     "output_type": "stream",
     "text": [
      "Your total score is: 2\n",
      "\n",
      "Player number 2 turn has just started!\n",
      "Your total score is: 0 \n",
      "\n"
     ]
    },
    {
     "name": "stdin",
     "output_type": "stream",
     "text": [
      "Would you like to roll (y)?  \n"
     ]
    },
    {
     "name": "stdout",
     "output_type": "stream",
     "text": [
      "Your total score is: 0\n",
      "\n",
      "Player number 1 turn has just started!\n",
      "Your total score is: 2 \n",
      "\n"
     ]
    },
    {
     "name": "stdin",
     "output_type": "stream",
     "text": [
      "Would you like to roll (y)?  \n"
     ]
    },
    {
     "name": "stdout",
     "output_type": "stream",
     "text": [
      "Your total score is: 2\n",
      "\n",
      "Player number 2 turn has just started!\n",
      "Your total score is: 0 \n",
      "\n"
     ]
    },
    {
     "name": "stdin",
     "output_type": "stream",
     "text": [
      "Would you like to roll (y)?  \n"
     ]
    },
    {
     "name": "stdout",
     "output_type": "stream",
     "text": [
      "Your total score is: 0\n",
      "\n",
      "Player number 1 turn has just started!\n",
      "Your total score is: 2 \n",
      "\n"
     ]
    },
    {
     "name": "stdin",
     "output_type": "stream",
     "text": [
      "Would you like to roll (y)?  \n"
     ]
    },
    {
     "name": "stdout",
     "output_type": "stream",
     "text": [
      "Your total score is: 2\n",
      "\n",
      "Player number 2 turn has just started!\n",
      "Your total score is: 0 \n",
      "\n"
     ]
    },
    {
     "name": "stdin",
     "output_type": "stream",
     "text": [
      "Would you like to roll (y)?  \n"
     ]
    },
    {
     "name": "stdout",
     "output_type": "stream",
     "text": [
      "Your total score is: 0\n",
      "\n",
      "Player number 1 turn has just started!\n",
      "Your total score is: 2 \n",
      "\n"
     ]
    },
    {
     "name": "stdin",
     "output_type": "stream",
     "text": [
      "Would you like to roll (y)?  \n"
     ]
    },
    {
     "name": "stdout",
     "output_type": "stream",
     "text": [
      "Your total score is: 2\n",
      "\n",
      "Player number 2 turn has just started!\n",
      "Your total score is: 0 \n",
      "\n"
     ]
    },
    {
     "name": "stdin",
     "output_type": "stream",
     "text": [
      "Would you like to roll (y)?  \n"
     ]
    },
    {
     "name": "stdout",
     "output_type": "stream",
     "text": [
      "Your total score is: 0\n",
      "\n",
      "Player number 1 turn has just started!\n",
      "Your total score is: 2 \n",
      "\n"
     ]
    },
    {
     "name": "stdin",
     "output_type": "stream",
     "text": [
      "Would you like to roll (y)?  \n"
     ]
    },
    {
     "name": "stdout",
     "output_type": "stream",
     "text": [
      "Your total score is: 2\n",
      "\n",
      "Player number 2 turn has just started!\n",
      "Your total score is: 0 \n",
      "\n"
     ]
    },
    {
     "name": "stdin",
     "output_type": "stream",
     "text": [
      "Would you like to roll (y)?  \n"
     ]
    },
    {
     "name": "stdout",
     "output_type": "stream",
     "text": [
      "Your total score is: 0\n",
      "\n",
      "Player number 1 turn has just started!\n",
      "Your total score is: 2 \n",
      "\n"
     ]
    },
    {
     "name": "stdin",
     "output_type": "stream",
     "text": [
      "Would you like to roll (y)?  \n"
     ]
    },
    {
     "name": "stdout",
     "output_type": "stream",
     "text": [
      "Your total score is: 2\n",
      "\n",
      "Player number 2 turn has just started!\n",
      "Your total score is: 0 \n",
      "\n"
     ]
    },
    {
     "name": "stdin",
     "output_type": "stream",
     "text": [
      "Would you like to roll (y)?  \n"
     ]
    },
    {
     "name": "stdout",
     "output_type": "stream",
     "text": [
      "Your total score is: 0\n",
      "\n",
      "Player number 1 turn has just started!\n",
      "Your total score is: 2 \n",
      "\n"
     ]
    },
    {
     "name": "stdin",
     "output_type": "stream",
     "text": [
      "Would you like to roll (y)?  \n"
     ]
    },
    {
     "name": "stdout",
     "output_type": "stream",
     "text": [
      "Your total score is: 2\n",
      "\n",
      "Player number 2 turn has just started!\n",
      "Your total score is: 0 \n",
      "\n"
     ]
    },
    {
     "name": "stdin",
     "output_type": "stream",
     "text": [
      "Would you like to roll (y)?  \n"
     ]
    },
    {
     "name": "stdout",
     "output_type": "stream",
     "text": [
      "Your total score is: 0\n",
      "\n",
      "Player number 1 turn has just started!\n",
      "Your total score is: 2 \n",
      "\n"
     ]
    },
    {
     "name": "stdin",
     "output_type": "stream",
     "text": [
      "Would you like to roll (y)?  \n"
     ]
    },
    {
     "name": "stdout",
     "output_type": "stream",
     "text": [
      "Your total score is: 2\n",
      "\n",
      "Player number 2 turn has just started!\n",
      "Your total score is: 0 \n",
      "\n"
     ]
    },
    {
     "name": "stdin",
     "output_type": "stream",
     "text": [
      "Would you like to roll (y)?  \n"
     ]
    },
    {
     "name": "stdout",
     "output_type": "stream",
     "text": [
      "Your total score is: 0\n",
      "\n",
      "Player number 1 turn has just started!\n",
      "Your total score is: 2 \n",
      "\n"
     ]
    },
    {
     "name": "stdin",
     "output_type": "stream",
     "text": [
      "Would you like to roll (y)?  y\n"
     ]
    },
    {
     "name": "stdout",
     "output_type": "stream",
     "text": [
      "You rolled a: 2\n",
      "Your score is: 2\n"
     ]
    },
    {
     "name": "stdin",
     "output_type": "stream",
     "text": [
      "Would you like to roll (y)?  y\n"
     ]
    },
    {
     "name": "stdout",
     "output_type": "stream",
     "text": [
      "You rolled a: 6\n",
      "Your score is: 8\n"
     ]
    },
    {
     "name": "stdin",
     "output_type": "stream",
     "text": [
      "Would you like to roll (y)?  y\n"
     ]
    },
    {
     "name": "stdout",
     "output_type": "stream",
     "text": [
      "You rolled a: 2\n",
      "Your score is: 10\n"
     ]
    },
    {
     "name": "stdin",
     "output_type": "stream",
     "text": [
      "Would you like to roll (y)?  u\n"
     ]
    },
    {
     "name": "stdout",
     "output_type": "stream",
     "text": [
      "Your total score is: 12\n",
      "\n",
      "Player number 2 turn has just started!\n",
      "Your total score is: 0 \n",
      "\n"
     ]
    },
    {
     "name": "stdin",
     "output_type": "stream",
     "text": [
      "Would you like to roll (y)?  y\n"
     ]
    },
    {
     "name": "stdout",
     "output_type": "stream",
     "text": [
      "You rolled a: 4\n",
      "Your score is: 4\n"
     ]
    },
    {
     "name": "stdin",
     "output_type": "stream",
     "text": [
      "Would you like to roll (y)?  y\n"
     ]
    },
    {
     "name": "stdout",
     "output_type": "stream",
     "text": [
      "You rolled a: 6\n",
      "Your score is: 10\n"
     ]
    },
    {
     "name": "stdin",
     "output_type": "stream",
     "text": [
      "Would you like to roll (y)?  y\n"
     ]
    },
    {
     "name": "stdout",
     "output_type": "stream",
     "text": [
      "You rolled a: 3\n",
      "Your score is: 13\n"
     ]
    },
    {
     "name": "stdin",
     "output_type": "stream",
     "text": [
      "Would you like to roll (y)?  y\n"
     ]
    },
    {
     "name": "stdout",
     "output_type": "stream",
     "text": [
      "You rolled a: 2\n",
      "Your score is: 15\n"
     ]
    },
    {
     "name": "stdin",
     "output_type": "stream",
     "text": [
      "Would you like to roll (y)?  y\n"
     ]
    },
    {
     "name": "stdout",
     "output_type": "stream",
     "text": [
      "You rolled a: 5\n",
      "Your score is: 20\n"
     ]
    },
    {
     "name": "stdin",
     "output_type": "stream",
     "text": [
      "Would you like to roll (y)?  u\n"
     ]
    },
    {
     "name": "stdout",
     "output_type": "stream",
     "text": [
      "Your total score is: 20\n",
      "\n",
      "Player number 1 turn has just started!\n",
      "Your total score is: 12 \n",
      "\n"
     ]
    },
    {
     "name": "stdin",
     "output_type": "stream",
     "text": [
      "Would you like to roll (y)?  y\n"
     ]
    },
    {
     "name": "stdout",
     "output_type": "stream",
     "text": [
      "You rolled a: 2\n",
      "Your score is: 2\n"
     ]
    },
    {
     "name": "stdin",
     "output_type": "stream",
     "text": [
      "Would you like to roll (y)?  y\n"
     ]
    },
    {
     "name": "stdout",
     "output_type": "stream",
     "text": [
      "You rolled a: 4\n",
      "Your score is: 6\n"
     ]
    },
    {
     "name": "stdin",
     "output_type": "stream",
     "text": [
      "Would you like to roll (y)?  y\n"
     ]
    },
    {
     "name": "stdout",
     "output_type": "stream",
     "text": [
      "You rolled a: 3\n",
      "Your score is: 9\n"
     ]
    },
    {
     "name": "stdin",
     "output_type": "stream",
     "text": [
      "Would you like to roll (y)?  y\n"
     ]
    },
    {
     "name": "stdout",
     "output_type": "stream",
     "text": [
      "You rolled a: 2\n",
      "Your score is: 11\n"
     ]
    },
    {
     "name": "stdin",
     "output_type": "stream",
     "text": [
      "Would you like to roll (y)?  uy\n"
     ]
    },
    {
     "name": "stdout",
     "output_type": "stream",
     "text": [
      "Your total score is: 23\n",
      "\n",
      "Player number 2 turn has just started!\n",
      "Your total score is: 20 \n",
      "\n"
     ]
    },
    {
     "name": "stdin",
     "output_type": "stream",
     "text": [
      "Would you like to roll (y)?  y\n"
     ]
    },
    {
     "name": "stdout",
     "output_type": "stream",
     "text": [
      "You rolled a 1! Turn done!\n",
      "Your total score is: 20\n",
      "\n",
      "Player number 1 turn has just started!\n",
      "Your total score is: 23 \n",
      "\n"
     ]
    },
    {
     "name": "stdin",
     "output_type": "stream",
     "text": [
      "Would you like to roll (y)?  y\n"
     ]
    },
    {
     "name": "stdout",
     "output_type": "stream",
     "text": [
      "You rolled a: 5\n",
      "Your score is: 5\n"
     ]
    },
    {
     "name": "stdin",
     "output_type": "stream",
     "text": [
      "Would you like to roll (y)?  y\n"
     ]
    },
    {
     "name": "stdout",
     "output_type": "stream",
     "text": [
      "You rolled a: 5\n",
      "Your score is: 10\n"
     ]
    },
    {
     "name": "stdin",
     "output_type": "stream",
     "text": [
      "Would you like to roll (y)?  y\n"
     ]
    },
    {
     "name": "stdout",
     "output_type": "stream",
     "text": [
      "You rolled a: 2\n",
      "Your score is: 12\n"
     ]
    },
    {
     "name": "stdin",
     "output_type": "stream",
     "text": [
      "Would you like to roll (y)?  u\n"
     ]
    },
    {
     "name": "stdout",
     "output_type": "stream",
     "text": [
      "Your total score is: 35\n",
      "\n",
      "Player number 2 turn has just started!\n",
      "Your total score is: 20 \n",
      "\n"
     ]
    },
    {
     "name": "stdin",
     "output_type": "stream",
     "text": [
      "Would you like to roll (y)?  y\n"
     ]
    },
    {
     "name": "stdout",
     "output_type": "stream",
     "text": [
      "You rolled a: 6\n",
      "Your score is: 6\n"
     ]
    },
    {
     "name": "stdin",
     "output_type": "stream",
     "text": [
      "Would you like to roll (y)?  y\n"
     ]
    },
    {
     "name": "stdout",
     "output_type": "stream",
     "text": [
      "You rolled a 1! Turn done!\n",
      "Your total score is: 20\n",
      "\n",
      "Player number 1 turn has just started!\n",
      "Your total score is: 35 \n",
      "\n"
     ]
    },
    {
     "name": "stdin",
     "output_type": "stream",
     "text": [
      "Would you like to roll (y)?  y\n"
     ]
    },
    {
     "name": "stdout",
     "output_type": "stream",
     "text": [
      "You rolled a 1! Turn done!\n",
      "Your total score is: 35\n",
      "\n",
      "Player number 2 turn has just started!\n",
      "Your total score is: 20 \n",
      "\n"
     ]
    },
    {
     "name": "stdin",
     "output_type": "stream",
     "text": [
      "Would you like to roll (y)?  y\n"
     ]
    },
    {
     "name": "stdout",
     "output_type": "stream",
     "text": [
      "You rolled a: 3\n",
      "Your score is: 3\n"
     ]
    },
    {
     "name": "stdin",
     "output_type": "stream",
     "text": [
      "Would you like to roll (y)?  y\n"
     ]
    },
    {
     "name": "stdout",
     "output_type": "stream",
     "text": [
      "You rolled a: 5\n",
      "Your score is: 8\n"
     ]
    },
    {
     "name": "stdin",
     "output_type": "stream",
     "text": [
      "Would you like to roll (y)?  y\n"
     ]
    },
    {
     "name": "stdout",
     "output_type": "stream",
     "text": [
      "You rolled a: 2\n",
      "Your score is: 10\n"
     ]
    },
    {
     "name": "stdin",
     "output_type": "stream",
     "text": [
      "Would you like to roll (y)?  y\n"
     ]
    },
    {
     "name": "stdout",
     "output_type": "stream",
     "text": [
      "You rolled a: 6\n",
      "Your score is: 16\n"
     ]
    },
    {
     "name": "stdin",
     "output_type": "stream",
     "text": [
      "Would you like to roll (y)?  y\n"
     ]
    },
    {
     "name": "stdout",
     "output_type": "stream",
     "text": [
      "You rolled a: 6\n",
      "Your score is: 22\n"
     ]
    },
    {
     "name": "stdin",
     "output_type": "stream",
     "text": [
      "Would you like to roll (y)?  u\n"
     ]
    },
    {
     "name": "stdout",
     "output_type": "stream",
     "text": [
      "Your total score is: 42\n",
      "\n",
      "Player number 1 turn has just started!\n",
      "Your total score is: 35 \n",
      "\n"
     ]
    },
    {
     "name": "stdin",
     "output_type": "stream",
     "text": [
      "Would you like to roll (y)?  y\n"
     ]
    },
    {
     "name": "stdout",
     "output_type": "stream",
     "text": [
      "You rolled a: 6\n",
      "Your score is: 6\n"
     ]
    },
    {
     "name": "stdin",
     "output_type": "stream",
     "text": [
      "Would you like to roll (y)?  y\n"
     ]
    },
    {
     "name": "stdout",
     "output_type": "stream",
     "text": [
      "You rolled a 1! Turn done!\n",
      "Your total score is: 35\n",
      "\n",
      "Player number 2 turn has just started!\n",
      "Your total score is: 42 \n",
      "\n"
     ]
    },
    {
     "name": "stdin",
     "output_type": "stream",
     "text": [
      "Would you like to roll (y)?  y\n"
     ]
    },
    {
     "name": "stdout",
     "output_type": "stream",
     "text": [
      "You rolled a 1! Turn done!\n",
      "Your total score is: 42\n",
      "\n",
      "Player number 1 turn has just started!\n",
      "Your total score is: 35 \n",
      "\n"
     ]
    },
    {
     "name": "stdin",
     "output_type": "stream",
     "text": [
      "Would you like to roll (y)?  y\n"
     ]
    },
    {
     "name": "stdout",
     "output_type": "stream",
     "text": [
      "You rolled a: 5\n",
      "Your score is: 5\n"
     ]
    },
    {
     "name": "stdin",
     "output_type": "stream",
     "text": [
      "Would you like to roll (y)?  y\n"
     ]
    },
    {
     "name": "stdout",
     "output_type": "stream",
     "text": [
      "You rolled a: 5\n",
      "Your score is: 10\n"
     ]
    },
    {
     "name": "stdin",
     "output_type": "stream",
     "text": [
      "Would you like to roll (y)?  y\n"
     ]
    },
    {
     "name": "stdout",
     "output_type": "stream",
     "text": [
      "You rolled a: 2\n",
      "Your score is: 12\n"
     ]
    },
    {
     "name": "stdin",
     "output_type": "stream",
     "text": [
      "Would you like to roll (y)?  u\n"
     ]
    },
    {
     "name": "stdout",
     "output_type": "stream",
     "text": [
      "Your total score is: 47\n",
      "\n",
      "Player number 2 turn has just started!\n",
      "Your total score is: 42 \n",
      "\n"
     ]
    },
    {
     "name": "stdin",
     "output_type": "stream",
     "text": [
      "Would you like to roll (y)?  y\n"
     ]
    },
    {
     "name": "stdout",
     "output_type": "stream",
     "text": [
      "You rolled a: 5\n",
      "Your score is: 5\n"
     ]
    },
    {
     "name": "stdin",
     "output_type": "stream",
     "text": [
      "Would you like to roll (y)?  y\n"
     ]
    },
    {
     "name": "stdout",
     "output_type": "stream",
     "text": [
      "You rolled a: 6\n",
      "Your score is: 11\n"
     ]
    },
    {
     "name": "stdin",
     "output_type": "stream",
     "text": [
      "Would you like to roll (y)?  u\n"
     ]
    },
    {
     "name": "stdout",
     "output_type": "stream",
     "text": [
      "Your total score is: 53\n",
      "Player number 2 is the winner with a score of: 53\n"
     ]
    }
   ],
   "source": [
    "import random\n",
    "\n",
    "\n",
    "def roll():\n",
    "    min_value = 1\n",
    "    max_value = 6\n",
    "    roll = random.randint(min_value, max_value)\n",
    "\n",
    "    return roll\n",
    "\n",
    "\n",
    "while True:\n",
    "    players = input(\"Enter the number of players (2 - 4): \")\n",
    "    if players.isdigit():\n",
    "        players = int(players)\n",
    "        if 2 <= players <= 4:\n",
    "            break\n",
    "        else:\n",
    "            print(\"Must be between 2 - 4 players.\")\n",
    "    else:\n",
    "        print(\"Invalid, try again.\")\n",
    "\n",
    "max_score = 50\n",
    "player_scores = [0 for _ in range(players)]\n",
    "\n",
    "while max(player_scores) < max_score:\n",
    "    for player_idx in range(players):\n",
    "        print(\"\\nPlayer number\", player_idx + 1, \"turn has just started!\")\n",
    "        print(\"Your total score is:\", player_scores[player_idx], \"\\n\")\n",
    "        current_score = 0\n",
    "\n",
    "        while True:\n",
    "            should_roll = input(\"Would you like to roll (y)? \")\n",
    "            if should_roll.lower() != \"y\":\n",
    "                break\n",
    "\n",
    "            value = roll()\n",
    "            if value == 1:\n",
    "                print(\"You rolled a 1! Turn done!\")\n",
    "                current_score = 0\n",
    "                break\n",
    "            else:\n",
    "                current_score += value\n",
    "                print(\"You rolled a:\", value)\n",
    "\n",
    "            print(\"Your score is:\", current_score)\n",
    "\n",
    "        player_scores[player_idx] += current_score\n",
    "        print(\"Your total score is:\", player_scores[player_idx])\n",
    "\n",
    "max_score = max(player_scores)\n",
    "winning_idx = player_scores.index(max_score)\n",
    "print(\"Player number\", winning_idx + 1,\n",
    "      \"is the winner with a score of:\", max_score)"
   ]
  },
  {
   "cell_type": "code",
   "execution_count": null,
   "id": "3d823581-7ea6-4f66-b6fe-2cea4c32e297",
   "metadata": {},
   "outputs": [],
   "source": []
  },
  {
   "cell_type": "code",
   "execution_count": null,
   "id": "6288cb26-1075-4bf4-8ed8-36ce005e097b",
   "metadata": {},
   "outputs": [],
   "source": []
  }
 ],
 "metadata": {
  "kernelspec": {
   "display_name": "Python 3 (ipykernel)",
   "language": "python",
   "name": "python3"
  },
  "language_info": {
   "codemirror_mode": {
    "name": "ipython",
    "version": 3
   },
   "file_extension": ".py",
   "mimetype": "text/x-python",
   "name": "python",
   "nbconvert_exporter": "python",
   "pygments_lexer": "ipython3",
   "version": "3.10.12"
  }
 },
 "nbformat": 4,
 "nbformat_minor": 5
}
