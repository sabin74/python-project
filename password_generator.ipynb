{
 "cells": [
  {
   "cell_type": "code",
   "execution_count": 1,
   "id": "3f2f735c-d3b9-4b4a-858a-4f1cc65abc27",
   "metadata": {},
   "outputs": [],
   "source": [
    "import random\n",
    "import string"
   ]
  },
  {
   "cell_type": "code",
   "execution_count": 2,
   "id": "df3a7777-d236-40ca-b488-b5c0aa44c661",
   "metadata": {},
   "outputs": [],
   "source": [
    "def generate_password(min_length, numbers = True, special_characters = True):\n",
    "    letters = string.ascii_letters\n",
    "    digits = string.digits\n",
    "    special = string.punctuation\n",
    "\n",
    "    characters = letters\n",
    "    if numbers:\n",
    "        characters += digits\n",
    "\n",
    "    if special_characters:\n",
    "        characters += special\n",
    "\n",
    "    pwd = \"\"\n",
    "    meets_criteria = False\n",
    "    has_number = False\n",
    "    has_special = False\n",
    "\n",
    "    while not meets_criteria or len(pwd) < min_length:\n",
    "        new_char = random.choice(characters)\n",
    "        pwd += new_char\n",
    "\n",
    "        if new_char in digits:\n",
    "            has_number = True\n",
    "        elif new_char in special: \n",
    "            has_special = True\n",
    "\n",
    "        meets_criteria = True\n",
    "        if numbers:\n",
    "            meets_criteria = has_number\n",
    "\n",
    "        if special_characters:\n",
    "            meets_criteria = meets_criteria and has_special\n",
    "\n",
    "    return pwd"
   ]
  },
  {
   "cell_type": "code",
   "execution_count": 3,
   "id": "29d7c0a8-f22d-46e7-80da-36bcd5d26fed",
   "metadata": {},
   "outputs": [
    {
     "name": "stdin",
     "output_type": "stream",
     "text": [
      "Enter the minimun length:  25\n",
      "Do you want to have numbers (y/n)?  y\n",
      "Do you want to have special characters (y/n)?  n\n"
     ]
    },
    {
     "name": "stdout",
     "output_type": "stream",
     "text": [
      "The generated password is:  I7Aurc5pYqMSG72cYkewKwhPQ\n"
     ]
    }
   ],
   "source": [
    "min_length = int(input(\"Enter the minimun length: \"))\n",
    "has_number = input(\"Do you want to have numbers (y/n)? \").lower() == 'y'\n",
    "has_special = input(\"Do you want to have special characters (y/n)? \").lower() == 'y'\n",
    "pwd = generate_password(min_length, has_number, has_special)\n",
    "\n",
    "print(\"The generated password is: \", pwd)"
   ]
  },
  {
   "cell_type": "code",
   "execution_count": null,
   "id": "8eb0bb57-d791-4aa8-9c9b-e85a39e7cf2c",
   "metadata": {},
   "outputs": [],
   "source": []
  }
 ],
 "metadata": {
  "kernelspec": {
   "display_name": "Python 3 (ipykernel)",
   "language": "python",
   "name": "python3"
  },
  "language_info": {
   "codemirror_mode": {
    "name": "ipython",
    "version": 3
   },
   "file_extension": ".py",
   "mimetype": "text/x-python",
   "name": "python",
   "nbconvert_exporter": "python",
   "pygments_lexer": "ipython3",
   "version": "3.10.12"
  }
 },
 "nbformat": 4,
 "nbformat_minor": 5
}
