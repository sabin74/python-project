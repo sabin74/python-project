{
 "cells": [
  {
   "cell_type": "code",
   "execution_count": 9,
   "id": "59231709-ebe4-4091-9943-a1eb954f3be2",
   "metadata": {},
   "outputs": [
    {
     "name": "stdin",
     "output_type": "stream",
     "text": [
      "Please enter to start! \n"
     ]
    },
    {
     "name": "stdout",
     "output_type": "stream",
     "text": [
      "-----------------------\n"
     ]
    },
    {
     "name": "stdin",
     "output_type": "stream",
     "text": [
      "Problem #1: 3 - 3 =  0\n",
      "Problem #2: 9 - 10 =  -2\n",
      "Problem #2: 9 - 10 =  -1\n",
      "Problem #3: 7 + 5 =  12\n",
      "Problem #4: 9 * 3 =  27\n",
      "Problem #5: 9 - 9 =  0\n",
      "Problem #6: 8 * 4 =  32\n",
      "Problem #7: 8 * 9 =  72\n",
      "Problem #8: 7 * 4 =  28\n",
      "Problem #9: 3 + 9 =  12\n",
      "Problem #10: 6 - 10 =  -4\n"
     ]
    },
    {
     "name": "stdout",
     "output_type": "stream",
     "text": [
      "-----------------------\n",
      "Nice work! You finished in 46.82 seconds!\n"
     ]
    }
   ],
   "source": [
    "import random\n",
    "import time\n",
    "\n",
    "OPERATOR = [\"+\", \"-\", \"*\"]\n",
    "MIN_OPERAND = 3\n",
    "MAX_OPERAND = 10\n",
    "TOTAL_PROBLEMS = 10\n",
    "\n",
    "def generate_problem():\n",
    "    left = random.randint(MIN_OPERAND, MAX_OPERAND)\n",
    "    right = random.randint(MIN_OPERAND, MAX_OPERAND)\n",
    "    operator = random.choice(OPERATOR)\n",
    "\n",
    "    expr = str(left) + \" \" + operator + \" \" + str(right)\n",
    "    answer = eval(expr)\n",
    "    return expr, answer\n",
    "\n",
    "generate_problem()\n",
    "\n",
    "wrong = 0\n",
    "input(\"Please enter to start!\")\n",
    "print(\"-----------------------\")\n",
    "\n",
    "start_time = time.time()\n",
    "\n",
    "for i in range(TOTAL_PROBLEMS):\n",
    "    expr, answer = generate_problem()\n",
    "    while True:\n",
    "        guess = input(\"Problem #\" + str(i + 1) + \": \" + expr + \" = \")\n",
    "        if guess == str(answer):\n",
    "            break\n",
    "        wrong += 1\n",
    "\n",
    "end_time = time.time()\n",
    "total_time = round(end_time - start_time, 2)\n",
    "\n",
    "print(\"-----------------------\")\n",
    "print(\"Nice work! You finished in\", total_time, \"seconds!\")\n",
    "    \n",
    "    "
   ]
  },
  {
   "cell_type": "code",
   "execution_count": null,
   "id": "71c4f59a-bc54-4cca-af0f-09245a8fef3b",
   "metadata": {},
   "outputs": [],
   "source": []
  },
  {
   "cell_type": "code",
   "execution_count": null,
   "id": "7c09ab39-f81b-4a5f-bead-add863e783be",
   "metadata": {},
   "outputs": [],
   "source": []
  }
 ],
 "metadata": {
  "kernelspec": {
   "display_name": "Python 3 (ipykernel)",
   "language": "python",
   "name": "python3"
  },
  "language_info": {
   "codemirror_mode": {
    "name": "ipython",
    "version": 3
   },
   "file_extension": ".py",
   "mimetype": "text/x-python",
   "name": "python",
   "nbconvert_exporter": "python",
   "pygments_lexer": "ipython3",
   "version": "3.10.12"
  }
 },
 "nbformat": 4,
 "nbformat_minor": 5
}
