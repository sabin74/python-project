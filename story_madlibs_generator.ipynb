{
 "cells": [
  {
   "cell_type": "code",
   "execution_count": 6,
   "id": "456f7ef5-bd29-444f-9c0e-73059b88689a",
   "metadata": {},
   "outputs": [
    {
     "name": "stdin",
     "output_type": "stream",
     "text": [
      "Enter a word for <terrain>:  grass\n",
      "Enter a word for <place2>:  home\n",
      "Enter a word for <adjective1>:  we\n",
      "Enter a word for <object>:  fan\n",
      "Enter a word for <weather_condition>:  sunny\n",
      "Enter a word for <emotion2>:  happy\n",
      "Enter a word for <adverb>:  sadly\n",
      "Enter a word for <character>:  ram\n",
      "Enter a word for <place>:  school\n",
      "Enter a word for <emotion>:  sad\n",
      "Enter a word for <animal>:  dog\n"
     ]
    },
    {
     "name": "stdout",
     "output_type": "stream",
     "text": [
      "In the we land of school, a dog was feeling sad. The dog had lost its fan.\n",
      "\n",
      "Suddenly, a ram appeared. 'I will help you find your fan,' they said.\n",
      "\n",
      "Together, they journeyed through grass and faced the sunny. Finally, they found the fan in a home. The dog was so happy and thanked the ram. They lived sadly ever after.\n"
     ]
    }
   ],
   "source": [
    "with open(\"story.txt\", 'r') as f:\n",
    "    story = f.read()\n",
    "\n",
    "words = set()\n",
    "start_of_word = -1\n",
    "\n",
    "target_start = '<'\n",
    "target_end = '>'\n",
    "\n",
    "for i, char in enumerate(story):\n",
    "    if char == target_start:\n",
    "        start_of_word = i\n",
    "\n",
    "    if char == target_end and start_of_word != -1:\n",
    "        word = story[start_of_word: i + 1]\n",
    "        words.add(word)\n",
    "        start_of_word = -1\n",
    "\n",
    "answer = {}\n",
    "\n",
    "for word in words:\n",
    "    answer = input(\"Enter a word for \" + word + \": \")\n",
    "    answers[word] = answer\n",
    "\n",
    "for word in words:\n",
    "    story = story.replace(word, answers[word])\n",
    "\n",
    "print(story)"
   ]
  },
  {
   "cell_type": "code",
   "execution_count": null,
   "id": "4ad1d9f4-c2da-4d3a-9621-342a522160ff",
   "metadata": {},
   "outputs": [],
   "source": []
  }
 ],
 "metadata": {
  "kernelspec": {
   "display_name": "Python 3 (ipykernel)",
   "language": "python",
   "name": "python3"
  },
  "language_info": {
   "codemirror_mode": {
    "name": "ipython",
    "version": 3
   },
   "file_extension": ".py",
   "mimetype": "text/x-python",
   "name": "python",
   "nbconvert_exporter": "python",
   "pygments_lexer": "ipython3",
   "version": "3.10.12"
  }
 },
 "nbformat": 4,
 "nbformat_minor": 5
}
