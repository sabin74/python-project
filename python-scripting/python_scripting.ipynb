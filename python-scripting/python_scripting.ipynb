{
 "cells": [
  {
   "cell_type": "code",
   "execution_count": 1,
   "id": "f4748ea7-369c-4be8-afdd-b6082ac5fe78",
   "metadata": {},
   "outputs": [],
   "source": [
    "import os\n",
    "import json\n",
    "import shutil \n",
    "from subprocess import PIPE, run\n",
    "import sys"
   ]
  },
  {
   "cell_type": "code",
   "execution_count": 2,
   "id": "448c4760-204b-43ee-85d6-999bd631155a",
   "metadata": {},
   "outputs": [],
   "source": [
    "GAME_DIR_PATTERN = \"game\"\n",
    "GAME_CODE_EXTENSION = \".go\"\n",
    "GAME_COMPILE_COMMAND = [\"go, build\"]"
   ]
  },
  {
   "cell_type": "code",
   "execution_count": 3,
   "id": "08b5c942-50f1-45a5-a6a6-150cac582d3e",
   "metadata": {},
   "outputs": [],
   "source": [
    "def find_all_game_paths(source):\n",
    "    game_paths = []\n",
    "\n",
    "    for root, dirs, files in os.walk(source): \n",
    "        for directory in dirs:\n",
    "            if GAME_DIR_PATTERN in directory.lower():\n",
    "                path = os.path.join(source, directory)\n",
    "                game_paths.append(path)\n",
    "\n",
    "        break\n",
    "\n",
    "    return game_paths"
   ]
  },
  {
   "cell_type": "code",
   "execution_count": 4,
   "id": "72fb6ef4-45af-4282-85d5-dee58ef3eab1",
   "metadata": {},
   "outputs": [],
   "source": [
    "def get_name_from_paths(paths, to_strip):\n",
    "    new_names = []\n",
    "    for path in paths:\n",
    "        _, dir_name = os.path.split(path)\n",
    "        new_dir_name = dir_name.replace(to_strip, \"\")\n",
    "        new_names.append(new_dir_name)\n",
    "\n",
    "    return new_names"
   ]
  },
  {
   "cell_type": "code",
   "execution_count": 5,
   "id": "199f5069-6040-4948-b86a-c8f4952fd86c",
   "metadata": {},
   "outputs": [],
   "source": [
    "def create_dir(path):\n",
    "    if not os.path.exists(path):\n",
    "        os.mkdir(path)"
   ]
  },
  {
   "cell_type": "code",
   "execution_count": 6,
   "id": "d4631e29-3aab-4f79-b094-449dae0bf668",
   "metadata": {},
   "outputs": [],
   "source": [
    "def copy_and_overwrite(source, dest): \n",
    "    if os.path.exists(dest):\n",
    "        shutil.rmtree(dest)\n",
    "    shutil.copytree(source, dest)"
   ]
  },
  {
   "cell_type": "code",
   "execution_count": 7,
   "id": "d8e7ee42-611f-4c1f-b423-37151be11e85",
   "metadata": {},
   "outputs": [],
   "source": [
    "def make_json_metadata_file(path, game_dirs):\n",
    "    data = {\n",
    "        \"gameNames\": game_dirs,\n",
    "        \"numberOfGames\": len(game_dirs)\n",
    "    }\n",
    "\n",
    "    with open(path, 'w') as f:\n",
    "        json.dump(data, f)"
   ]
  },
  {
   "cell_type": "code",
   "execution_count": 8,
   "id": "e6391b99-674d-4e3a-9f94-54e4517cd34b",
   "metadata": {},
   "outputs": [],
   "source": [
    "def compile_game_code(path):\n",
    "    code_file_name = None\n",
    "    for roots, dirs, files in os.walk(path):\n",
    "        for file in files:\n",
    "            if file.endswith(GAME_CODE_EXTENSION):\n",
    "                code_file_name = file \n",
    "                break\n",
    "        break\n",
    "\n",
    "    if code_file_name is None:\n",
    "        return\n",
    "\n",
    "    command = GAME_COMPILE_COMMAND + [code_file_name]\n",
    "    run_command(command, path)"
   ]
  },
  {
   "cell_type": "code",
   "execution_count": 9,
   "id": "e4f66d3c-1600-4b96-b371-25dc17c0db66",
   "metadata": {},
   "outputs": [],
   "source": [
    "def run_command(command, path): \n",
    "    cwd = os.getcwd()\n",
    "    os.chdir(path) \n",
    "\n",
    "    result = run(commandd, stdout = PIPE, stdin = PIPE, universal_newlines = True)\n",
    "    print(\"compile result\", result)\n",
    "\n",
    "    os.chdir(cwd)"
   ]
  },
  {
   "cell_type": "code",
   "execution_count": 10,
   "id": "60458f92-a8e7-4873-9b9a-87390dd6944c",
   "metadata": {},
   "outputs": [],
   "source": [
    "def main(source, target):\n",
    "    cwd = os.getcwd()\n",
    "    source_path = os.path.join(cwd, source)\n",
    "    target_path = os.path.join(cwd, target)\n",
    "\n",
    "    game_paths = find_all_game_paths(source_path)\n",
    "    new_game_dirs = get_name_from_paths(game_paths, \"_game\")\n",
    "\n",
    "    create_dir(target_path)\n",
    "\n",
    "    for scr, dest in zip(game_paths, new_game_dirs):\n",
    "        dest_path = os.path.join(target_path, dest)\n",
    "        copy_and_overwrite(scr, dest_path)\n",
    "        compile_game_code(dest_path)\n",
    "\n",
    "    json_path = os.path.join(target_path, \"metadata.json\")\n",
    "    make_json_metadata_file(json_path, new_game_dirs)"
   ]
  
  
