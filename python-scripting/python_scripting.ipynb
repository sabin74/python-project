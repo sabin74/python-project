{
 "cells": [
  {
   "cell_type": "code",
   "execution_count": 1,
   "id": "f4748ea7-369c-4be8-afdd-b6082ac5fe78",
   "metadata": {},
   "outputs": [],
   "source": [
    "import os\n",
    "import json\n",
    "import shutil \n",
    "from subprocess import PIPE, run\n",
    "import sys"
   ]
  },
  {
   "cell_type": "code",
   "execution_count": 2,
   "id": "448c4760-204b-43ee-85d6-999bd631155a",
   "metadata": {},
   "outputs": [],
   "source": [
    "GAME_DIR_PATTERN = \"game\"\n",
    "GAME_CODE_EXTENSION = \".go\"\n",
    "GAME_COMPILE_COMMAND = [\"go, build\"]"
   ]
  },
  {
   "cell_type": "code",
   "execution_count": 3,
   "id": "08b5c942-50f1-45a5-a6a6-150cac582d3e",
   "metadata": {},
   "outputs": [],
   "source": [
    "def find_all_game_paths(source):\n",
    "    game_paths = []\n",
    "\n",
    "    for root, dirs, files in os.walk(source): \n",
    "        for directory in dirs:\n",
    "            if GAME_DIR_PATTERN in directory.lower():\n",
    "                path = os.path.join(source, directory)\n",
    "                game_paths.append(path)\n",
    "\n",
    "        break\n",
    "\n",
    "    return game_paths"
   ]
  },
  {
   "cell_type": "code",
   "execution_count": 4,
   "id": "72fb6ef4-45af-4282-85d5-dee58ef3eab1",
   "metadata": {},
   "outputs": [],
   "source": [
    "def get_name_from_paths(paths, to_strip):\n",
    "    new_names = []\n",
    "    for path in paths:\n",
    "        _, dir_name = os.path.split(path)\n",
    "        new_dir_name = dir_name.replace(to_strip, \"\")\n",
    "        new_names.append(new_dir_name)\n",
    "\n",
    "    return new_names"
   ]
  },
  {
   "cell_type": "code",
   "execution_count": 5,
   "id": "199f5069-6040-4948-b86a-c8f4952fd86c",
   "metadata": {},
   "outputs": [],
   "source": [
    "def create_dir(path):\n",
    "    if not os.path.exists(path):\n",
    "        os.mkdir(path)"
   ]
  },
  {
   "cell_type": "code",
   "execution_count": 6,
   "id": "d4631e29-3aab-4f79-b094-449dae0bf668",
   "metadata": {},
   "outputs": [],
   "source": [
    "def copy_and_overwrite(source, dest): \n",
    "    if os.path.exists(dest):\n",
    "        shutil.rmtree(dest)\n",
    "    shutil.copytree(source, dest)"
   ]
  },
  {
   "cell_type": "code",
   "execution_count": 7,
   "id": "d8e7ee42-611f-4c1f-b423-37151be11e85",
   "metadata": {},
   "outputs": [],
   "source": [
    "def make_json_metadata_file(path, game_dirs):\n",
    "    data = {\n",
    "        \"gameNames\": game_dirs,\n",
    "        \"numberOfGames\": len(game_dirs)\n",
    "    }\n",
    "\n",
    "    with open(path, 'w') as f:\n",
    "        json.dump(data, f)"
   ]
  },
  {
   "cell_type": "code",
   "execution_count": 8,
   "id": "e6391b99-674d-4e3a-9f94-54e4517cd34b",
   "metadata": {},
   "outputs": [],
   "source": [
    "def compile_game_code(path):\n",
    "    code_file_name = None\n",
    "    for roots, dirs, files in os.walk(path):\n",
    "        for file in files:\n",
    "            if file.endswith(GAME_CODE_EXTENSION):\n",
    "                code_file_name = file \n",
    "                break\n",
    "        break\n",
    "\n",
    "    if code_file_name is None:\n",
    "        return\n",
    "\n",
    "    command = GAME_COMPILE_COMMAND + [code_file_name]\n",
    "    run_command(command, path)"
   ]
  },
  {
   "cell_type": "code",
   "execution_count": 9,
   "id": "e4f66d3c-1600-4b96-b371-25dc17c0db66",
   "metadata": {},
   "outputs": [],
   "source": [
    "def run_command(command, path): \n",
    "    cwd = os.getcwd()\n",
    "    os.chdir(path) \n",
    "\n",
    "    result = run(commandd, stdout = PIPE, stdin = PIPE, universal_newlines = True)\n",
    "    print(\"compile result\", result)\n",
    "\n",
    "    os.chdir(cwd)"
   ]
  },
  {
   "cell_type": "code",
   "execution_count": 10,
   "id": "60458f92-a8e7-4873-9b9a-87390dd6944c",
   "metadata": {},
   "outputs": [],
   "source": [
    "def main(source, target):\n",
    "    cwd = os.getcwd()\n",
    "    source_path = os.path.join(cwd, source)\n",
    "    target_path = os.path.join(cwd, target)\n",
    "\n",
    "    game_paths = find_all_game_paths(source_path)\n",
    "    new_game_dirs = get_name_from_paths(game_paths, \"_game\")\n",
    "\n",
    "    create_dir(target_path)\n",
    "\n",
    "    for scr, dest in zip(game_paths, new_game_dirs):\n",
    "        dest_path = os.path.join(target_path, dest)\n",
    "        copy_and_overwrite(scr, dest_path)\n",
    "        compile_game_code(dest_path)\n",
    "\n",
    "    json_path = os.path.join(target_path, \"metadata.json\")\n",
    "    make_json_metadata_file(json_path, new_game_dirs)"
   ]
  },
  {
   "cell_type": "code",
   "execution_count": 11,
   "id": "e13c96c3-bfb4-4374-9c7e-98ce1c5cd342",
   "metadata": {},
   "outputs": [
    {
     "ename": "NotADirectoryError",
     "evalue": "[Errno 20] Not a directory: '/home/sabin/.local/share/jupyter/runtime/kernel-dd1e583a-781d-4800-b540-5b33fe30a2bc.json/metadata.json'",
     "output_type": "error",
     "traceback": [
      "\u001b[0;31m---------------------------------------------------------------------------\u001b[0m",
      "\u001b[0;31mNotADirectoryError\u001b[0m                        Traceback (most recent call last)",
      "Cell \u001b[0;32mIn[11], line 7\u001b[0m\n\u001b[1;32m      4\u001b[0m     \u001b[38;5;28;01mraise\u001b[39;00m \u001b[38;5;167;01mException\u001b[39;00m(\u001b[38;5;124m\"\u001b[39m\u001b[38;5;124mYou must pass and target directory - only.\u001b[39m\u001b[38;5;124m\"\u001b[39m)\n\u001b[1;32m      6\u001b[0m source, target \u001b[38;5;241m=\u001b[39m args[\u001b[38;5;241m1\u001b[39m:]\n\u001b[0;32m----> 7\u001b[0m \u001b[43mmain\u001b[49m\u001b[43m(\u001b[49m\u001b[43msource\u001b[49m\u001b[43m,\u001b[49m\u001b[43m \u001b[49m\u001b[43mtarget\u001b[49m\u001b[43m)\u001b[49m\n",
      "Cell \u001b[0;32mIn[10], line 17\u001b[0m, in \u001b[0;36mmain\u001b[0;34m(source, target)\u001b[0m\n\u001b[1;32m     14\u001b[0m     compile_game_code(dest_path)\n\u001b[1;32m     16\u001b[0m json_path \u001b[38;5;241m=\u001b[39m os\u001b[38;5;241m.\u001b[39mpath\u001b[38;5;241m.\u001b[39mjoin(target_path, \u001b[38;5;124m\"\u001b[39m\u001b[38;5;124mmetadata.json\u001b[39m\u001b[38;5;124m\"\u001b[39m)\n\u001b[0;32m---> 17\u001b[0m \u001b[43mmake_json_metadata_file\u001b[49m\u001b[43m(\u001b[49m\u001b[43mjson_path\u001b[49m\u001b[43m,\u001b[49m\u001b[43m \u001b[49m\u001b[43mnew_game_dirs\u001b[49m\u001b[43m)\u001b[49m\n",
      "Cell \u001b[0;32mIn[7], line 7\u001b[0m, in \u001b[0;36mmake_json_metadata_file\u001b[0;34m(path, game_dirs)\u001b[0m\n\u001b[1;32m      1\u001b[0m \u001b[38;5;28;01mdef\u001b[39;00m\u001b[38;5;250m \u001b[39m\u001b[38;5;21mmake_json_metadata_file\u001b[39m(path, game_dirs):\n\u001b[1;32m      2\u001b[0m     data \u001b[38;5;241m=\u001b[39m {\n\u001b[1;32m      3\u001b[0m         \u001b[38;5;124m\"\u001b[39m\u001b[38;5;124mgameNames\u001b[39m\u001b[38;5;124m\"\u001b[39m: game_dirs,\n\u001b[1;32m      4\u001b[0m         \u001b[38;5;124m\"\u001b[39m\u001b[38;5;124mnumberOfGames\u001b[39m\u001b[38;5;124m\"\u001b[39m: \u001b[38;5;28mlen\u001b[39m(game_dirs)\n\u001b[1;32m      5\u001b[0m     }\n\u001b[0;32m----> 7\u001b[0m     \u001b[38;5;28;01mwith\u001b[39;00m \u001b[38;5;28;43mopen\u001b[39;49m\u001b[43m(\u001b[49m\u001b[43mpath\u001b[49m\u001b[43m,\u001b[49m\u001b[43m \u001b[49m\u001b[38;5;124;43m'\u001b[39;49m\u001b[38;5;124;43mw\u001b[39;49m\u001b[38;5;124;43m'\u001b[39;49m\u001b[43m)\u001b[49m \u001b[38;5;28;01mas\u001b[39;00m f:\n\u001b[1;32m      8\u001b[0m         json\u001b[38;5;241m.\u001b[39mdump(data, f)\n",
      "File \u001b[0;32m~/.local/lib/python3.10/site-packages/IPython/core/interactiveshell.py:324\u001b[0m, in \u001b[0;36m_modified_open\u001b[0;34m(file, *args, **kwargs)\u001b[0m\n\u001b[1;32m    317\u001b[0m \u001b[38;5;28;01mif\u001b[39;00m file \u001b[38;5;129;01min\u001b[39;00m {\u001b[38;5;241m0\u001b[39m, \u001b[38;5;241m1\u001b[39m, \u001b[38;5;241m2\u001b[39m}:\n\u001b[1;32m    318\u001b[0m     \u001b[38;5;28;01mraise\u001b[39;00m \u001b[38;5;167;01mValueError\u001b[39;00m(\n\u001b[1;32m    319\u001b[0m         \u001b[38;5;124mf\u001b[39m\u001b[38;5;124m\"\u001b[39m\u001b[38;5;124mIPython won\u001b[39m\u001b[38;5;124m'\u001b[39m\u001b[38;5;124mt let you open fd=\u001b[39m\u001b[38;5;132;01m{\u001b[39;00mfile\u001b[38;5;132;01m}\u001b[39;00m\u001b[38;5;124m by default \u001b[39m\u001b[38;5;124m\"\u001b[39m\n\u001b[1;32m    320\u001b[0m         \u001b[38;5;124m\"\u001b[39m\u001b[38;5;124mas it is likely to crash IPython. If you know what you are doing, \u001b[39m\u001b[38;5;124m\"\u001b[39m\n\u001b[1;32m    321\u001b[0m         \u001b[38;5;124m\"\u001b[39m\u001b[38;5;124myou can use builtins\u001b[39m\u001b[38;5;124m'\u001b[39m\u001b[38;5;124m open.\u001b[39m\u001b[38;5;124m\"\u001b[39m\n\u001b[1;32m    322\u001b[0m     )\n\u001b[0;32m--> 324\u001b[0m \u001b[38;5;28;01mreturn\u001b[39;00m \u001b[43mio_open\u001b[49m\u001b[43m(\u001b[49m\u001b[43mfile\u001b[49m\u001b[43m,\u001b[49m\u001b[43m \u001b[49m\u001b[38;5;241;43m*\u001b[39;49m\u001b[43margs\u001b[49m\u001b[43m,\u001b[49m\u001b[43m \u001b[49m\u001b[38;5;241;43m*\u001b[39;49m\u001b[38;5;241;43m*\u001b[39;49m\u001b[43mkwargs\u001b[49m\u001b[43m)\u001b[49m\n",
      "\u001b[0;31mNotADirectoryError\u001b[0m: [Errno 20] Not a directory: '/home/sabin/.local/share/jupyter/runtime/kernel-dd1e583a-781d-4800-b540-5b33fe30a2bc.json/metadata.json'"
     ]
    }
   ],
   "source": [
    "if __name__ == \"__main__\":\n",
    "    args = sys.argv\n",
    "    if len(args) != 3: \n",
    "        raise Exception(\"You must pass and target directory - only.\")\n",
    "\n",
    "    source, target = args[1:]\n",
    "    main(source, target)"
   ]
  },
  {
   "cell_type": "code",
   "execution_count": null,
   "id": "dfe523d4-9b4a-47e1-9aa6-729e20675d72",
   "metadata": {},
   "outputs": [],
   "source": []
  },
  {
   "cell_type": "code",
   "execution_count": 12,
   "id": "63490185-c832-4fbd-a275-bda1ccafc83a",
   "metadata": {},
   "outputs": [
    {
     "ename": "NotADirectoryError",
     "evalue": "[Errno 20] Not a directory: '/home/sabin/.local/share/jupyter/runtime/kernel-dd1e583a-781d-4800-b540-5b33fe30a2bc.json/metadata.json'",
     "output_type": "error",
     "traceback": [
      "\u001b[0;31m---------------------------------------------------------------------------\u001b[0m",
      "\u001b[0;31mNotADirectoryError\u001b[0m                        Traceback (most recent call last)",
      "Cell \u001b[0;32mIn[12], line 109\u001b[0m\n\u001b[1;32m    106\u001b[0m     \u001b[38;5;28;01mraise\u001b[39;00m \u001b[38;5;167;01mException\u001b[39;00m(\u001b[38;5;124m\"\u001b[39m\u001b[38;5;124mYou must pass a source and target directory - only.\u001b[39m\u001b[38;5;124m\"\u001b[39m)\n\u001b[1;32m    108\u001b[0m source, target \u001b[38;5;241m=\u001b[39m args[\u001b[38;5;241m1\u001b[39m:]\n\u001b[0;32m--> 109\u001b[0m \u001b[43mmain\u001b[49m\u001b[43m(\u001b[49m\u001b[43msource\u001b[49m\u001b[43m,\u001b[49m\u001b[43m \u001b[49m\u001b[43mtarget\u001b[49m\u001b[43m)\u001b[49m\n",
      "Cell \u001b[0;32mIn[12], line 100\u001b[0m, in \u001b[0;36mmain\u001b[0;34m(source, target)\u001b[0m\n\u001b[1;32m     97\u001b[0m     compile_game_code(dest_path)\n\u001b[1;32m     99\u001b[0m json_path \u001b[38;5;241m=\u001b[39m os\u001b[38;5;241m.\u001b[39mpath\u001b[38;5;241m.\u001b[39mjoin(target_path, \u001b[38;5;124m\"\u001b[39m\u001b[38;5;124mmetadata.json\u001b[39m\u001b[38;5;124m\"\u001b[39m)\n\u001b[0;32m--> 100\u001b[0m \u001b[43mmake_json_metadata_file\u001b[49m\u001b[43m(\u001b[49m\u001b[43mjson_path\u001b[49m\u001b[43m,\u001b[49m\u001b[43m \u001b[49m\u001b[43mnew_game_dirs\u001b[49m\u001b[43m)\u001b[49m\n",
      "Cell \u001b[0;32mIn[12], line 54\u001b[0m, in \u001b[0;36mmake_json_metadata_file\u001b[0;34m(path, game_dirs)\u001b[0m\n\u001b[1;32m     48\u001b[0m \u001b[38;5;28;01mdef\u001b[39;00m\u001b[38;5;250m \u001b[39m\u001b[38;5;21mmake_json_metadata_file\u001b[39m(path, game_dirs):\n\u001b[1;32m     49\u001b[0m     data \u001b[38;5;241m=\u001b[39m {\n\u001b[1;32m     50\u001b[0m         \u001b[38;5;124m\"\u001b[39m\u001b[38;5;124mgameNames\u001b[39m\u001b[38;5;124m\"\u001b[39m: game_dirs,\n\u001b[1;32m     51\u001b[0m         \u001b[38;5;124m\"\u001b[39m\u001b[38;5;124mnumberOfGames\u001b[39m\u001b[38;5;124m\"\u001b[39m: \u001b[38;5;28mlen\u001b[39m(game_dirs)\n\u001b[1;32m     52\u001b[0m     }\n\u001b[0;32m---> 54\u001b[0m     \u001b[38;5;28;01mwith\u001b[39;00m \u001b[38;5;28;43mopen\u001b[39;49m\u001b[43m(\u001b[49m\u001b[43mpath\u001b[49m\u001b[43m,\u001b[49m\u001b[43m \u001b[49m\u001b[38;5;124;43m\"\u001b[39;49m\u001b[38;5;124;43mw\u001b[39;49m\u001b[38;5;124;43m\"\u001b[39;49m\u001b[43m)\u001b[49m \u001b[38;5;28;01mas\u001b[39;00m f:\n\u001b[1;32m     55\u001b[0m         json\u001b[38;5;241m.\u001b[39mdump(data, f)\n",
      "File \u001b[0;32m~/.local/lib/python3.10/site-packages/IPython/core/interactiveshell.py:324\u001b[0m, in \u001b[0;36m_modified_open\u001b[0;34m(file, *args, **kwargs)\u001b[0m\n\u001b[1;32m    317\u001b[0m \u001b[38;5;28;01mif\u001b[39;00m file \u001b[38;5;129;01min\u001b[39;00m {\u001b[38;5;241m0\u001b[39m, \u001b[38;5;241m1\u001b[39m, \u001b[38;5;241m2\u001b[39m}:\n\u001b[1;32m    318\u001b[0m     \u001b[38;5;28;01mraise\u001b[39;00m \u001b[38;5;167;01mValueError\u001b[39;00m(\n\u001b[1;32m    319\u001b[0m         \u001b[38;5;124mf\u001b[39m\u001b[38;5;124m\"\u001b[39m\u001b[38;5;124mIPython won\u001b[39m\u001b[38;5;124m'\u001b[39m\u001b[38;5;124mt let you open fd=\u001b[39m\u001b[38;5;132;01m{\u001b[39;00mfile\u001b[38;5;132;01m}\u001b[39;00m\u001b[38;5;124m by default \u001b[39m\u001b[38;5;124m\"\u001b[39m\n\u001b[1;32m    320\u001b[0m         \u001b[38;5;124m\"\u001b[39m\u001b[38;5;124mas it is likely to crash IPython. If you know what you are doing, \u001b[39m\u001b[38;5;124m\"\u001b[39m\n\u001b[1;32m    321\u001b[0m         \u001b[38;5;124m\"\u001b[39m\u001b[38;5;124myou can use builtins\u001b[39m\u001b[38;5;124m'\u001b[39m\u001b[38;5;124m open.\u001b[39m\u001b[38;5;124m\"\u001b[39m\n\u001b[1;32m    322\u001b[0m     )\n\u001b[0;32m--> 324\u001b[0m \u001b[38;5;28;01mreturn\u001b[39;00m \u001b[43mio_open\u001b[49m\u001b[43m(\u001b[49m\u001b[43mfile\u001b[49m\u001b[43m,\u001b[49m\u001b[43m \u001b[49m\u001b[38;5;241;43m*\u001b[39;49m\u001b[43margs\u001b[49m\u001b[43m,\u001b[49m\u001b[43m \u001b[49m\u001b[38;5;241;43m*\u001b[39;49m\u001b[38;5;241;43m*\u001b[39;49m\u001b[43mkwargs\u001b[49m\u001b[43m)\u001b[49m\n",
      "\u001b[0;31mNotADirectoryError\u001b[0m: [Errno 20] Not a directory: '/home/sabin/.local/share/jupyter/runtime/kernel-dd1e583a-781d-4800-b540-5b33fe30a2bc.json/metadata.json'"
     ]
    }
   ],
   "source": [
    "import os\n",
    "import json\n",
    "import shutil\n",
    "from subprocess import PIPE, run\n",
    "import sys\n",
    "\n",
    "\n",
    "GAME_DIR_PATTERN = \"game\"\n",
    "GAME_CODE_EXTENSION = \".go\"\n",
    "GAME_COMPILE_COMMAND = [\"go\", \"build\"]\n",
    "\n",
    "\n",
    "def find_all_game_paths(source):\n",
    "    game_paths = []\n",
    "\n",
    "    for root, dirs, files in os.walk(source):\n",
    "        for directory in dirs:\n",
    "            if GAME_DIR_PATTERN in directory.lower():\n",
    "                path = os.path.join(source, directory)\n",
    "                game_paths.append(path)\n",
    "\n",
    "        break\n",
    "\n",
    "    return game_paths\n",
    "\n",
    "\n",
    "def get_name_from_paths(paths, to_strip):\n",
    "    new_names = []\n",
    "    for path in paths:\n",
    "        _, dir_name = os.path.split(path)\n",
    "        new_dir_name = dir_name.replace(to_strip, \"\")\n",
    "        new_names.append(new_dir_name)\n",
    "\n",
    "    return new_names\n",
    "\n",
    "\n",
    "def create_dir(path):\n",
    "    if not os.path.exists(path):\n",
    "        os.mkdir(path)\n",
    "\n",
    "\n",
    "def copy_and_overwrite(source, dest):\n",
    "    if os.path.exists(dest):\n",
    "        shutil.rmtree(dest)\n",
    "    shutil.copytree(source, dest)\n",
    "\n",
    "\n",
    "def make_json_metadata_file(path, game_dirs):\n",
    "    data = {\n",
    "        \"gameNames\": game_dirs,\n",
    "        \"numberOfGames\": len(game_dirs)\n",
    "    }\n",
    "\n",
    "    with open(path, \"w\") as f:\n",
    "        json.dump(data, f)\n",
    "\n",
    "\n",
    "def compile_game_code(path):\n",
    "    code_file_name = None\n",
    "    for root, dirs, files in os.walk(path):\n",
    "        for file in files:\n",
    "            if file.endswith(GAME_CODE_EXTENSION):\n",
    "                code_file_name = file\n",
    "                break\n",
    "\n",
    "        break\n",
    "\n",
    "    if code_file_name is None:\n",
    "        return\n",
    "\n",
    "    command = GAME_COMPILE_COMMAND + [code_file_name]\n",
    "    run_command(command, path)\n",
    "\n",
    "\n",
    "def run_command(command, path):\n",
    "    cwd = os.getcwd()\n",
    "    os.chdir(path)\n",
    "\n",
    "    result = run(command, stdout=PIPE, stdin=PIPE, universal_newlines=True)\n",
    "    print(\"compile result\", result)\n",
    "\n",
    "    os.chdir(cwd)\n",
    "\n",
    "def main(source, target):\n",
    "    cwd = os.getcwd()\n",
    "    source_path = os.path.join(cwd, source)\n",
    "    target_path = os.path.join(cwd, target)\n",
    "\n",
    "    game_paths = find_all_game_paths(source_path)\n",
    "    new_game_dirs = get_name_from_paths(game_paths, \"_game\")\n",
    "\n",
    "    create_dir(target_path)\n",
    "\n",
    "    for src, dest in zip(game_paths, new_game_dirs):\n",
    "        dest_path = os.path.join(target_path, dest)\n",
    "        copy_and_overwrite(src, dest_path)\n",
    "        compile_game_code(dest_path)\n",
    "\n",
    "    json_path = os.path.join(target_path, \"metadata.json\")\n",
    "    make_json_metadata_file(json_path, new_game_dirs)\n",
    "\n",
    "\n",
    "if __name__ == \"__main__\":\n",
    "    args = sys.argv\n",
    "    if len(args) != 3:\n",
    "        raise Exception(\"You must pass a source and target directory - only.\")\n",
    "\n",
    "    source, target = args[1:]\n",
    "    main(source, target)"
   ]
  },
  {
   "cell_type": "code",
   "execution_count": null,
   "id": "f96cd51b-53f7-45cc-954a-fd4a01d69189",
   "metadata": {},
   "outputs": [],
   "source": []
  }
 ],
 "metadata": {
  "kernelspec": {
   "display_name": "Python 3 (ipykernel)",
   "language": "python",
   "name": "python3"
  },
  "language_info": {
   "codemirror_mode": {
    "name": "ipython",
    "version": 3
   },
   "file_extension": ".py",
   "mimetype": "text/x-python",
   "name": "python",
   "nbconvert_exporter": "python",
   "pygments_lexer": "ipython3",
   "version": "3.10.12"
  }
 },
 "nbformat": 4,
 "nbformat_minor": 5
}
