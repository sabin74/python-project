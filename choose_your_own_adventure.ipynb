{
 "cells": [
  {
   "cell_type": "code",
   "execution_count": 2,
   "id": "8fc5879b-b36b-4162-9d4a-f98b4235323f",
   "metadata": {},
   "outputs": [
    {
     "name": "stdin",
     "output_type": "stream",
     "text": [
      "Type your name:  Sabin\n"
     ]
    },
    {
     "name": "stdout",
     "output_type": "stream",
     "text": [
      "Welcome Sabin to the adventure!\n"
     ]
    },
    {
     "name": "stdin",
     "output_type": "stream",
     "text": [
      "You are on a dirt road, it has come to an end and you can go left of right. Whcih way would you like to go (left/right)? right\n",
      "You came to bridge, it looks woobly, do you want to cross it or head back (cross/back)?  cross\n",
      "You cross the bridge and meet a stranger. Do you talk to thme (yes/no)?  yes\n"
     ]
    },
    {
     "name": "stdout",
     "output_type": "stream",
     "text": [
      "You talk to the stanger and they give you gold. You WIN!\n",
      "Thank you for trying Sabin\n"
     ]
    }
   ],
   "source": [
    "name = input(\"Type your name: \")\n",
    "print(\"Welcome\", name, \"to the adventure!\")\n",
    "\n",
    "answer = input(\"You are on a dirt road, it has come to an end and you can go left of right. Whcih way would you like to go (left/right)?\").lower()\n",
    "\n",
    "if answer == \"left\":\n",
    "    answer = input(\"You come to a river, you can walk around it or swim accross? Type walk to walk around and swim to swim accross (walk/swim): \")\n",
    "\n",
    "    if answer == \"swim\":\n",
    "        print(\"You swam accross and were eatten by an alligator.\")\n",
    "    elif answer == \"walk\":\n",
    "        print(\"You walked for many miles, ran out of water and you lost the game.\")\n",
    "    else:\n",
    "        print(\"Not a valid option. You lose.\")\n",
    "\n",
    "if answer == \"right\":\n",
    "    answer = input(\"You came to bridge, it looks woobly, do you want to cross it or head back (cross/back)? \")\n",
    "\n",
    "    if answer == \"back\":\n",
    "        print(\"You go back and lose the game.\")\n",
    "    elif answer == \"cross\":\n",
    "        answer = input(\"You cross the bridge and meet a stranger. Do you talk to thme (yes/no)? \")\n",
    "        if answer == \"yes\":\n",
    "            print(\"You talk to the stanger and they give you gold. You WIN!\")\n",
    "        elif answer == \"no\":\n",
    "            print(\"You ignore the stranger and they are offended and you lose the game.\")\n",
    "        else:\n",
    "            print(\"Not a valid option. You lose.\")\n",
    "\n",
    "    else:\n",
    "        print(\"Not a valid option. You lose.\")\n",
    "\n",
    "print(\"Thank you for trying\", name)"
   ]
  },
  {
   "cell_type": "code",
   "execution_count": null,
   "id": "c4cea987-8b49-4690-be82-a886d7909099",
   "metadata": {},
   "outputs": [],
   "source": []
  }
 ],
 "metadata": {
  "kernelspec": {
   "display_name": "Python 3 (ipykernel)",
   "language": "python",
   "name": "python3"
  },
  "language_info": {
   "codemirror_mode": {
    "name": "ipython",
    "version": 3
   },
   "file_extension": ".py",
   "mimetype": "text/x-python",
   "name": "python",
   "nbconvert_exporter": "python",
   "pygments_lexer": "ipython3",
   "version": "3.10.12"
  }
 },
 "nbformat": 4,
 "nbformat_minor": 5
}
