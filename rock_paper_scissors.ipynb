{
 "cells": [
  {
   "cell_type": "code",
   "execution_count": 3,
   "id": "3b0aea4a-53ee-4484-b154-cc8bba888e99",
   "metadata": {},
   "outputs": [
    {
     "name": "stdin",
     "output_type": "stream",
     "text": [
      "Type Rock/Paper/Scissors of Q to quit:  rock\n"
     ]
    },
    {
     "name": "stdout",
     "output_type": "stream",
     "text": [
      "You picked rock.\n",
      "Computer picked paper.\n",
      "You lost!\n"
     ]
    },
    {
     "name": "stdin",
     "output_type": "stream",
     "text": [
      "Type Rock/Paper/Scissors of Q to quit:  paper\n"
     ]
    },
    {
     "name": "stdout",
     "output_type": "stream",
     "text": [
      "You picked paper.\n",
      "Computer picked scissors.\n",
      "You lost!\n"
     ]
    },
    {
     "name": "stdin",
     "output_type": "stream",
     "text": [
      "Type Rock/Paper/Scissors of Q to quit:  scissors\n"
     ]
    },
    {
     "name": "stdout",
     "output_type": "stream",
     "text": [
      "You picked scissors.\n",
      "Computer picked paper.\n",
      "You won\n"
     ]
    },
    {
     "name": "stdin",
     "output_type": "stream",
     "text": [
      "Type Rock/Paper/Scissors of Q to quit:  rock\n"
     ]
    },
    {
     "name": "stdout",
     "output_type": "stream",
     "text": [
      "You picked rock.\n",
      "Computer picked rock.\n",
      "It's tie!\n"
     ]
    },
    {
     "name": "stdin",
     "output_type": "stream",
     "text": [
      "Type Rock/Paper/Scissors of Q to quit:  q\n"
     ]
    },
    {
     "name": "stdout",
     "output_type": "stream",
     "text": [
      "You won 1 times\n",
      "The computer won 2 times\n",
      "Goodbye!\n"
     ]
    }
   ],
   "source": [
    "import random\n",
    "\n",
    "user_wins = 0\n",
    "computer_wins = 0\n",
    "\n",
    "options = [\"rock\", \"paper\", \"scissors\"]\n",
    "\n",
    "while True:\n",
    "    user_input = input(\"Type Rock/Paper/Scissors of Q to quit: \").lower()\n",
    "    if user_input == 'q':\n",
    "        break\n",
    "\n",
    "    if user_input not in options:\n",
    "        continue\n",
    "\n",
    "    random_number = random.randint(0, 2)\n",
    "    # rock: 0, paper: 1, scissors: 2\n",
    "    computer_pick = options[random_number]\n",
    "    print(\"You picked\", user_input + \".\")\n",
    "    print(\"Computer picked\", computer_pick + \".\")\n",
    "\n",
    "    if user_input == \"rock\" and computer_pick == \"scissors\":\n",
    "        print(\"You won!\")\n",
    "        user_wins += 1\n",
    "\n",
    "    elif user_input == \"paper\" and computer_pick == \"rock\":\n",
    "        print(\"You won!\")\n",
    "        user_wins += 1\n",
    "\n",
    "    elif user_input == \"scissors\" and computer_pick == \"paper\":\n",
    "        print(\"You won\")\n",
    "        user_wins += 1\n",
    "\n",
    "    elif (user_input == \"rock\" and computer_pick == \"rock\") or (user_input == \"paper\" and computer_pick == \"paper\") or (user_input == \"scissors\" and computer_pick == \"scissors\"):\n",
    "        print(\"It's tie!\")\n",
    "\n",
    "    else:\n",
    "        print(\"You lost!\")\n",
    "        computer_wins += 1\n",
    "\n",
    "print(\"You won\", user_wins, \"times\")\n",
    "print(\"The computer won\", computer_wins, \"times\")\n",
    "print(\"Goodbye!\")"
   ]
  },
  {
   "cell_type": "code",
   "execution_count": null,
   "id": "c4922108-d182-454b-bc6c-87dca02df648",
   "metadata": {},
   "outputs": [],
   "source": []
  }
 ],
 "metadata": {
  "kernelspec": {
   "display_name": "Python 3 (ipykernel)",
   "language": "python",
   "name": "python3"
  },
  "language_info": {
   "codemirror_mode": {
    "name": "ipython",
    "version": 3
   },
   "file_extension": ".py",
   "mimetype": "text/x-python",
   "name": "python",
   "nbconvert_exporter": "python",
   "pygments_lexer": "ipython3",
   "version": "3.10.12"
  }
 },
 "nbformat": 4,
 "nbformat_minor": 5
}
